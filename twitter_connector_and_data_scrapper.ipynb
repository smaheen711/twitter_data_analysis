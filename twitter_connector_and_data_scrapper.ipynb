{
 "cells": [
  {
   "cell_type": "code",
   "execution_count": null,
   "id": "1f7e00aa",
   "metadata": {},
   "outputs": [],
   "source": [
    "import tweepy\n",
    "import pandas as pd\n",
    "import numpy as np\n",
    "import re"
   ]
  },
  {
   "cell_type": "code",
   "execution_count": null,
   "id": "e00df3c2",
   "metadata": {},
   "outputs": [],
   "source": [
    "log = pd.read_csv(\"log_in.csv\")"
   ]
  },
  {
   "cell_type": "code",
   "execution_count": null,
   "id": "50bb350a",
   "metadata": {
    "scrolled": true
   },
   "outputs": [],
   "source": [
    "consumer_key = log['key'][0]\n",
    "consumer_secret = log['key'][1]\n",
    "access_token = log['key'][2]\n",
    "access_token_secret = log['key'][3]"
   ]
  },
  {
   "cell_type": "code",
   "execution_count": null,
   "id": "39c4187e",
   "metadata": {},
   "outputs": [],
   "source": [
    "posts = api.user_timeline(screen_name = \"ElonMusk\", count = 100)"
   ]
  },
  {
   "cell_type": "code",
   "execution_count": null,
   "id": "c66fb643",
   "metadata": {},
   "outputs": [],
   "source": []
  }
 ],
 "metadata": {
  "kernelspec": {
   "display_name": "Python 3 (ipykernel)",
   "language": "python",
   "name": "python3"
  },
  "language_info": {
   "codemirror_mode": {
    "name": "ipython",
    "version": 3
   },
   "file_extension": ".py",
   "mimetype": "text/x-python",
   "name": "python",
   "nbconvert_exporter": "python",
   "pygments_lexer": "ipython3",
   "version": "3.9.12"
  }
 },
 "nbformat": 4,
 "nbformat_minor": 5
}
