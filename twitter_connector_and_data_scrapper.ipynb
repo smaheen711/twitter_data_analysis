{
 "cells": [
  {
   "cell_type": "code",
   "execution_count": 4,
   "id": "1f7e00aa",
   "metadata": {},
   "outputs": [],
   "source": [
    "import tweepy\n",
    "import pandas as pd\n",
    "import numpy as np\n",
    "import re\n",
    "from googletrans import Translator\n",
    "from google_trans_new import google_translator  \n",
    "import datetime\n",
    "import time\n",
    "pd.options.display.max_columns = 999"
   ]
  },
  {
   "cell_type": "code",
   "execution_count": 2,
   "id": "e00df3c2",
   "metadata": {},
   "outputs": [],
   "source": [
    "# log = pd.read_csv(\"log_in.csv\")\n",
    "# consumer_key = log['key'][0]\n",
    "# consumer_secret = log['key'][1]\n",
    "# access_token = log['key'][2]\n",
    "# access_token_secret = log['key'][3]\n",
    "# auth = tweepy.OAuthHandler(consumer_key, consumer_secret)\n",
    "# auth.set_access_token(access_token, access_token_secret)\n",
    "# api = tweepy.API(auth)\n",
    "# keyword = 'ukraine'\n",
    "# limit=5000\n",
    "# # start_date = datetime.datetime(2022, 2, 24, 12, 00, 00)\n",
    "# end_date = datetime.datetime(2023, 1, 23, 12, 00, 00)\n",
    "# end_date = end_date.strftime(\"%Y-%m-%d\")\n",
    "\n",
    "# tweets = tweepy.Cursor(api.search_tweets, q=keyword, count=100, tweet_mode='extended', lang = 'ru', \n",
    "#                        result_type = 'mixed', until = end_date).items(limit)\n",
    "# # tweets = api.search_tweets(\"ukraine\", tweet_mode=\"extended\", lang='ru')\n",
    "\n",
    "# columns = ['User', 'Original Tweet']\n",
    "# data = []\n",
    "\n",
    "# #get tweet Id, location(city name, lang, long)\n",
    "# for tweet in tweets:\n",
    "#     data.append([tweet.user.screen_name, tweet.full_text])\n",
    "\n",
    "# df = pd.DataFrame(data, columns=columns)\n",
    "\n",
    "# print(df)\n"
   ]
  },
  {
   "cell_type": "code",
   "execution_count": 37,
   "id": "b3fa7507",
   "metadata": {},
   "outputs": [
    {
     "data": {
      "text/plain": [
       "'Contractors of the 136th motorized rifle brigade of Dagestan refused to comply with command orders during the war in Ukraine and arbitrarily departed to the permanent deployment of the unit in Buinaksk.\\n\\nhttps://t.co/q8b4vswljc'"
      ]
     },
     "execution_count": 37,
     "metadata": {},
     "output_type": "execute_result"
    }
   ],
   "source": [
    "translator = Translator()\n",
    "\n",
    "temp = df['Original Tweet'][1]\n",
    "\n",
    "temp1 = translator.translate(temp).text\n",
    "temp1\n",
    "\n"
   ]
  },
  {
   "cell_type": "code",
   "execution_count": 5,
   "id": "283bb2ce",
   "metadata": {},
   "outputs": [],
   "source": [
    "log = pd.read_csv(\"log_in.csv\")\n",
    "bearer_token = log['key'][4]\n"
   ]
  },
  {
   "cell_type": "code",
   "execution_count": 6,
   "id": "a3c5ce26",
   "metadata": {},
   "outputs": [],
   "source": [
    "client = tweepy.Client(bearer_token, wait_on_rate_limit=True)"
   ]
  },
  {
   "cell_type": "code",
   "execution_count": null,
   "id": "3176e08b",
   "metadata": {},
   "outputs": [],
   "source": [
    "hoax_tweets = []\n",
    "for response in tweepy.Paginator(client.search_all_tweets, \n",
    "                                 query = 'ukraine -is:retweet lang:ru',\n",
    "                                 user_fields = ['username', 'public_metrics', 'description', 'location'],\n",
    "                                 tweet_fields = ['created_at', 'geo', 'public_metrics', 'text'],\n",
    "                                 expansions = 'author_id',\n",
    "                                 start_time = '2022-02-20T00:00:00Z',\n",
    "                                 end_time = '2022-03-10T00:00:00Z',\n",
    "                              max_results=500):\n",
    "    time.sleep(1)\n",
    "    hoax_tweets.append(response)\n",
    "\n"
   ]
  },
  {
   "cell_type": "code",
   "execution_count": 18,
   "id": "632f1685",
   "metadata": {},
   "outputs": [
    {
     "data": {
      "text/plain": [
       "[Response(data=[<Tweet id=1512875087178969100 text='https://t.co/s4qJcblx2p\\nЕще 132 мирных жителя были найдены расстрелянными в украинском городе Макаров, который на 40% разрушен российской оккупацией, сообщил мэр.'>, <Tweet id=1512016877790408708 text='Украина: Подтверждение факта недозволенного обращения с военнопленными будет означать военное преступление | Human Rights Watch https://t.co/LlBWGoQqYJ'>, <Tweet id=1511298894923194372 text='Доклад Human Rights Watch о военных преступлениях, в том числе о происходившем в Буче\\n(если кто вдруг считает, что HRW прозападная организация и действует против России, то вот их заявление о пытках российских пленных).\\n\\nhttps://t.co/YJAjQKO2zH'>, <Tweet id=1511074672531718149 text='✔ NYT: Президент США сегодня заявил, что сообщения о убийствах мирных жителей на Украине -  «военное преступление».  «Путен  жесток», — сказал Байден о президенте Путене.  «А то, что происходит в Буче, ужасно».  https://t.co/MjQZjbN6Z5 https://t.co/d2YcLiueQ9'>, <Tweet id=1510841405480083457 text='Доклад Human Rights Watch (https://t.co/5XGFxs4euQ) о военных преступлениях, в том числе о происходившем в Буче\\n(если кто вдруг считает, что HRW прозападная организация и действует против России, то вот их заявление (https://t.co/ClleKBWUIX) о пытках российских пленных).'>, <Tweet id=1510831524433862658 text='Если кто вдруг считает, что HRW прозападная организация и действует против России, то вот их заявление о пытках российских пленных https://t.co/0gqYfYs9Rr'>, <Tweet id=1510683126116327424 text='@Russia_AR @Rusembegypt @Rus_Emb_Sudan @RusEmbassyIraq @AmbRus_Algerie @RusEmbJordan @arableague_gs @RusEmb_KSA @RusEmbBAH @russiaqatar @RussianEmbYemen WAR CRIME IN UKRAINE! KILLING CIVILIAN PEOPLE!\\nУБИЙСТВО ГРАЖДАНСКИХ ЛИЦ! НИКАКОЙ ДИПЛОМАТИЧЕСКИЙ ИММУНИТЕТ ПОСЛЕ ВОЙНЫ НЕ ЗАЩИТИТ! В БОЛЕЕ 180 СТРАНАХ ВЫ В СПИСКАХ РАЗЫСКИВАЕТСЯ ЗА ВОЕННЫЕ ПРЕСТУПЛЕНИЯ! https://t.co/UzENdGMwwa'>, <Tweet id=1510600520909664257 text='@kpru Правозащитники из Human Rights Watch собрали доказательства военных преступлений российской армии в городе Буча под Киевом. https://t.co/utXvA7bG1U'>, <Tweet id=1508999207834767365 text='#Zelensky #Zelenskyy #Zelenski #Zelenskiy #ZelenskyWarCriminal #ZelenskyyUA #Ukraine #UkraineUnderAttaсk #UkraineVSRussia #war #CrimesAgainstHumanity #Crime \\n\\nПесня-обращение к Зеленскому. Что скажешь, президент? https://t.co/M5izUutlXL via @YouTube https://t.co/BzLRKC4lMA'>, <Tweet id=1508270497791893522 text='@halyapuff @EuromaidanPress ...and one major Ukraine war crime.\\n\\nhttps://t.co/WRQ34xhtux\\n\\nКогда Украина начнет расстреливать российских военнопленных'>, <Tweet id=1506900900442517507 text='Западные эксперты собирают доказательства нарушений и преступлений, которые российские солдаты совершают на Украине. Информацию передадут в международные суды. https://t.co/iW6BBL7Qjb'>, <Tweet id=1504017724988665856 text='Туркэд газардсан Победа онгоцны ахмад: \"Эрхэм хүндэт зорчигдчоо, ахмад ярьж бна. Нисэх компанийн хувиар биш зөвхөн өөрийнхөө өмнөөс хэлж бн. Украины дайн бол гэмт хэрэг бид нэн даруй зогсох ёстой, энэ цуст яргаллыг битгий дэмжээрэй, баярлалаа\" гэжээ\\n\\nhttps://t.co/AaMy6OiZBO'>, <Tweet id=1502782115540258819 text='@f61T8JlKLo3dBaW • Многие украинские города разрушены\\n• Взорвана мариупольская больница\\n•Прокурор МУС начал расследование военных преступлений в Украине https://t.co/NXwR0srUOJ'>, <Tweet id=1498962902463791104 text='Российские солдаты - армия мародеров\\n\\n#Russian soldiers - an army of #marauders\\n\\n#war #ukraine #crime #criminals https://t.co/49V7HQIdW9'>, <Tweet id=1498805791913955330 text='Это вероятные военные преступления не только Путина. Это военные преступления тех, кто выполняет приказы. Согласно международному праву вооруженные силы обязаны отклонять незаконные приказы. У каждого есть нравственный выбор.\\nhttps://t.co/gUCMRoDh1j'>, <Tweet id=1498493415180455939 text='Главный прокурор Международного уголовного суда начнет расследование возможных военных преступлений и преступлений против человечности в Украине. Карим Хан сказал, что расследование будет проведено до российского вторжения, но он намерен его расширить.\\nhttps://t.co/1FOQWjsKEy'>, <Tweet id=1498397550562451463 text='Россияне ударили по детскому садику кластерными бомбами. Убит ребёнок.  Вы не на улице  - вы соучастник. https://t.co/fnkE4sMgSJ https://t.co/wnbbmMHYcq'>, <Tweet id=1497151226580189184 text='В числе первых 137 жертв путинского вторжения - погибший после бомбардировки \"военного преступления\" ребенок из Украины\\nhttps://t.co/tkTA07jHLK'>], includes={'users': [<User id=1425169152138956801 name=🇮🇱 Shinshilka Pyshistaya❤Silky chinchilka🌿 username=TanyaGeller3>, <User id=4046752587 name=trachtenberg oleg username=trarik53>, <User id=843503263 name=Zönöv username=zonov_sl>, <User id=455010438 name=НЕТ ВОЙНЕ ❌ SCIENCE CLUB ❌ За свободу Навального! username=SCIENCE_CLUB_RU>, <User id=1501289120320004100 name=Vladimir O🇺🇦🇮🇱 username=Vladxxx68O>, <User id=96357066 name=Dmitry Kolezev username=kolezev>, <User id=579756082 name=MaLa username=MartLangd>, <User id=1205430663626842112 name=duma_2 username=duma_22>, <User id=182556769 name=Adam username=TimeIsFinishing>, <User id=40466649 name=Comrade Covfefe username=WallsUSA>, <User id=284041785 name=Euronews на русском username=euronewsru>, <User id=483759190 name=Batsugar username=Batsugar1>, <User id=1500735929543188480 name=Winston Smith username=WinstonSmith75>, <User id=2477893675 name=🇺🇦 Соборная Украина! username=SobornaUkraina>, <User id=65647594 name=Scott Kelly username=StationCDRKelly>, <User id=837785295152115713 name=Phillipson Institute username=phillipsoninst>, <User id=2845262629 name=🇧🇪 Rig Sec 🇺🇦 username=Rigsector>, <User id=1472180907851513856 name=andaasutandingu bukkugeito username=bukkugeito>]}, errors=[], meta={'newest_id': '1512875087178969100', 'oldest_id': '1497151226580189184', 'result_count': 18})]"
      ]
     },
     "execution_count": 18,
     "metadata": {},
     "output_type": "execute_result"
    }
   ],
   "source": [
    "selected_tweets"
   ]
  },
  {
   "cell_type": "code",
   "execution_count": 9,
   "id": "750cdb15",
   "metadata": {},
   "outputs": [],
   "source": [
    "result = []\n",
    "user_dict = {}\n",
    "# Loop through each response object\n",
    "for response in selected_tweets:\n",
    "    # Take all of the users, and put them into a dictionary of dictionaries with the info we want to keep\n",
    "    for user in response.includes['users']:\n",
    "        user_dict[user.id] = {'username': user.username, \n",
    "                              'followers': user.public_metrics['followers_count'],\n",
    "                              'tweets': user.public_metrics['tweet_count'],\n",
    "                              'description': user.description,\n",
    "                              'location': user.location\n",
    "                             }\n",
    "    for tweet in response.data:\n",
    "        # For each tweet, find the author's information\n",
    "        author_info = user_dict[tweet.author_id]\n",
    "        # Put all of the information we want to keep in a single dictionary for each tweet\n",
    "        result.append({'author_id': tweet.author_id, \n",
    "                       'username': author_info['username'],\n",
    "                       'author_followers': author_info['followers'],\n",
    "                       'author_tweets': author_info['tweets'],\n",
    "                       'author_description': author_info['description'],\n",
    "                       'author_location': author_info['location'],\n",
    "                       'text': tweet.text,\n",
    "                       'created_at': tweet.created_at,\n",
    "                       'retweets': tweet.public_metrics['retweet_count'],\n",
    "                       'replies': tweet.public_metrics['reply_count'],\n",
    "                       'likes': tweet.public_metrics['like_count'],\n",
    "                       'quote_count': tweet.public_metrics['quote_count']\n",
    "                      })\n",
    "\n",
    "# Change this list of dictionaries into a dataframe\n",
    "df = pd.DataFrame(result)"
   ]
  },
  {
   "cell_type": "code",
   "execution_count": 10,
   "id": "76e52ba0",
   "metadata": {},
   "outputs": [
    {
     "data": {
      "text/html": [
       "<div>\n",
       "<style scoped>\n",
       "    .dataframe tbody tr th:only-of-type {\n",
       "        vertical-align: middle;\n",
       "    }\n",
       "\n",
       "    .dataframe tbody tr th {\n",
       "        vertical-align: top;\n",
       "    }\n",
       "\n",
       "    .dataframe thead th {\n",
       "        text-align: right;\n",
       "    }\n",
       "</style>\n",
       "<table border=\"1\" class=\"dataframe\">\n",
       "  <thead>\n",
       "    <tr style=\"text-align: right;\">\n",
       "      <th></th>\n",
       "      <th>author_id</th>\n",
       "      <th>username</th>\n",
       "      <th>author_followers</th>\n",
       "      <th>author_tweets</th>\n",
       "      <th>author_description</th>\n",
       "      <th>author_location</th>\n",
       "      <th>text</th>\n",
       "      <th>created_at</th>\n",
       "      <th>retweets</th>\n",
       "      <th>replies</th>\n",
       "      <th>likes</th>\n",
       "      <th>quote_count</th>\n",
       "    </tr>\n",
       "  </thead>\n",
       "  <tbody>\n",
       "    <tr>\n",
       "      <th>0</th>\n",
       "      <td>2477893675</td>\n",
       "      <td>SobornaUkraina</td>\n",
       "      <td>4654</td>\n",
       "      <td>87311</td>\n",
       "      <td>Соборна #Україна! Я люблю свою страну!</td>\n",
       "      <td>Украина</td>\n",
       "      <td>Российские солдаты - армия мародеров\\n\\n#Russi...</td>\n",
       "      <td>2022-03-02 10:06:19+00:00</td>\n",
       "      <td>1</td>\n",
       "      <td>2</td>\n",
       "      <td>3</td>\n",
       "      <td>0</td>\n",
       "    </tr>\n",
       "    <tr>\n",
       "      <th>1</th>\n",
       "      <td>65647594</td>\n",
       "      <td>StationCDRKelly</td>\n",
       "      <td>5289821</td>\n",
       "      <td>4996</td>\n",
       "      <td>Former NASA Astronaut &amp; US Navy Captain @Keppl...</td>\n",
       "      <td>Denver, CO</td>\n",
       "      <td>Это вероятные военные преступления не только П...</td>\n",
       "      <td>2022-03-01 23:42:01+00:00</td>\n",
       "      <td>28</td>\n",
       "      <td>2</td>\n",
       "      <td>184</td>\n",
       "      <td>0</td>\n",
       "    </tr>\n",
       "    <tr>\n",
       "      <th>2</th>\n",
       "      <td>837785295152115713</td>\n",
       "      <td>phillipsoninst</td>\n",
       "      <td>2597</td>\n",
       "      <td>108733</td>\n",
       "      <td>The Phillipson Institute\\nForum to Educate and...</td>\n",
       "      <td>New Jersey</td>\n",
       "      <td>Главный прокурор Международного уголовного суд...</td>\n",
       "      <td>2022-03-01 03:00:45+00:00</td>\n",
       "      <td>0</td>\n",
       "      <td>1</td>\n",
       "      <td>0</td>\n",
       "      <td>0</td>\n",
       "    </tr>\n",
       "    <tr>\n",
       "      <th>3</th>\n",
       "      <td>2845262629</td>\n",
       "      <td>Rigsector</td>\n",
       "      <td>3654</td>\n",
       "      <td>100008</td>\n",
       "      <td></td>\n",
       "      <td>Belgium</td>\n",
       "      <td>Россияне ударили по детскому садику кластерным...</td>\n",
       "      <td>2022-02-28 20:39:49+00:00</td>\n",
       "      <td>60</td>\n",
       "      <td>0</td>\n",
       "      <td>61</td>\n",
       "      <td>1</td>\n",
       "    </tr>\n",
       "    <tr>\n",
       "      <th>4</th>\n",
       "      <td>1472180907851513856</td>\n",
       "      <td>bukkugeito</td>\n",
       "      <td>5</td>\n",
       "      <td>428</td>\n",
       "      <td>I am against war.\\nOf course, I am also oppose...</td>\n",
       "      <td>None</td>\n",
       "      <td>В числе первых 137 жертв путинского вторжения ...</td>\n",
       "      <td>2022-02-25 10:07:22+00:00</td>\n",
       "      <td>0</td>\n",
       "      <td>0</td>\n",
       "      <td>0</td>\n",
       "      <td>0</td>\n",
       "    </tr>\n",
       "  </tbody>\n",
       "</table>\n",
       "</div>"
      ],
      "text/plain": [
       "             author_id         username  author_followers  author_tweets  \\\n",
       "0           2477893675   SobornaUkraina              4654          87311   \n",
       "1             65647594  StationCDRKelly           5289821           4996   \n",
       "2   837785295152115713   phillipsoninst              2597         108733   \n",
       "3           2845262629        Rigsector              3654         100008   \n",
       "4  1472180907851513856       bukkugeito                 5            428   \n",
       "\n",
       "                                  author_description author_location  \\\n",
       "0             Соборна #Україна! Я люблю свою страну!         Украина   \n",
       "1  Former NASA Astronaut & US Navy Captain @Keppl...      Denver, CO   \n",
       "2  The Phillipson Institute\\nForum to Educate and...      New Jersey   \n",
       "3                                                            Belgium   \n",
       "4  I am against war.\\nOf course, I am also oppose...            None   \n",
       "\n",
       "                                                text  \\\n",
       "0  Российские солдаты - армия мародеров\\n\\n#Russi...   \n",
       "1  Это вероятные военные преступления не только П...   \n",
       "2  Главный прокурор Международного уголовного суд...   \n",
       "3  Россияне ударили по детскому садику кластерным...   \n",
       "4  В числе первых 137 жертв путинского вторжения ...   \n",
       "\n",
       "                 created_at  retweets  replies  likes  quote_count  \n",
       "0 2022-03-02 10:06:19+00:00         1        2      3            0  \n",
       "1 2022-03-01 23:42:01+00:00        28        2    184            0  \n",
       "2 2022-03-01 03:00:45+00:00         0        1      0            0  \n",
       "3 2022-02-28 20:39:49+00:00        60        0     61            1  \n",
       "4 2022-02-25 10:07:22+00:00         0        0      0            0  "
      ]
     },
     "execution_count": 10,
     "metadata": {},
     "output_type": "execute_result"
    }
   ],
   "source": [
    "df"
   ]
  },
  {
   "cell_type": "code",
   "execution_count": 22,
   "id": "285d9867",
   "metadata": {},
   "outputs": [],
   "source": [
    "# !pip install googletrans==4.0.0rc1"
   ]
  },
  {
   "cell_type": "code",
   "execution_count": 11,
   "id": "3519587d",
   "metadata": {},
   "outputs": [
    {
     "name": "stdout",
     "output_type": "stream",
     "text": [
      "my name\n"
     ]
    }
   ],
   "source": [
    "from googletrans import Translator\n",
    "translator = Translator()\n",
    "translated = translator.translate(text='nama saya', dest='en')\n",
    "print(translated.text)"
   ]
  },
  {
   "cell_type": "code",
   "execution_count": 13,
   "id": "33a576b2",
   "metadata": {},
   "outputs": [
    {
     "name": "stdout",
     "output_type": "stream",
     "text": [
      "Russian soldiers - the army of looters\n",
      "\n",
      "#Russian Soldiers - An Army of #marauders\n",
      "\n",
      "#war #UKRANE #CRIME #CRIMINALS https://t.co/49v7hqidw9\n",
      "These are probable war crimes not only of Putin.These are war crimes of those who follow orders.According to international law, the armed forces are required to reject illegal orders.Everyone has a moral choice.\n",
      "https://t.co/gucmrodh1j\n",
      "The chief prosecutor of the International Criminal Court will begin the investigation of possible war crimes and crimes against humanity in Ukraine.Karim Khan said that the investigation will be conducted before the Russian invasion, but he intends to expand it.\n",
      "https://t.co/1foqwjskey\n",
      "The Russians hit the kindergarten cluster bombs.The child is killed.You are not on the street - you are an accomplice.https://t.co/fnke4smgsj https://t.co/wnbmmhycq\n",
      "Among the first 137 victims of the Putin invasion were a child from Ukraine who died after a bombardment of a “war crime”\n",
      "https://t.co/tkta07jhlk\n"
     ]
    }
   ],
   "source": [
    "translator = Translator()\n",
    "\n",
    "translated_text = []\n",
    "\n",
    "for text in df['text']:\n",
    "    \n",
    "    temp_text = translator.translate(text)\n",
    "    print(temp_text.text)\n",
    "    translated_text.append(temp_text.text)"
   ]
  },
  {
   "cell_type": "code",
   "execution_count": 14,
   "id": "2c338df1",
   "metadata": {},
   "outputs": [
    {
     "data": {
      "text/plain": [
       "5"
      ]
     },
     "execution_count": 14,
     "metadata": {},
     "output_type": "execute_result"
    }
   ],
   "source": [
    "len(translated_text)"
   ]
  },
  {
   "cell_type": "code",
   "execution_count": 16,
   "id": "1e7aee03",
   "metadata": {},
   "outputs": [
    {
     "data": {
      "text/plain": [
       "(5, 12)"
      ]
     },
     "execution_count": 16,
     "metadata": {},
     "output_type": "execute_result"
    }
   ],
   "source": [
    "df.shape"
   ]
  },
  {
   "cell_type": "code",
   "execution_count": null,
   "id": "5d24cb08",
   "metadata": {},
   "outputs": [],
   "source": []
  }
 ],
 "metadata": {
  "kernelspec": {
   "display_name": "Python 3 (ipykernel)",
   "language": "python",
   "name": "python3"
  },
  "language_info": {
   "codemirror_mode": {
    "name": "ipython",
    "version": 3
   },
   "file_extension": ".py",
   "mimetype": "text/x-python",
   "name": "python",
   "nbconvert_exporter": "python",
   "pygments_lexer": "ipython3",
   "version": "3.9.16"
  }
 },
 "nbformat": 4,
 "nbformat_minor": 5
}
