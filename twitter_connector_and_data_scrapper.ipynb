{
 "cells": [
  {
   "cell_type": "code",
   "execution_count": 1,
   "id": "1f7e00aa",
   "metadata": {},
   "outputs": [],
   "source": [
    "import tweepy\n",
    "import pandas as pd\n",
    "import numpy as np\n",
    "import re\n",
    "from googletrans import Translator\n",
    "# from google_trans_new import google_translator  \n",
    "import datetime\n",
    "import time\n",
    "# pd.options.display.max_columns = 999"
   ]
  },
  {
   "cell_type": "code",
   "execution_count": 124,
   "id": "e00df3c2",
   "metadata": {},
   "outputs": [],
   "source": [
    "# log = pd.read_csv(\"log_in.csv\")\n",
    "# consumer_key = log['key'][0]\n",
    "# consumer_secret = log['key'][1]\n",
    "# access_token = log['key'][2]\n",
    "# access_token_secret = log['key'][3]\n",
    "# auth = tweepy.OAuthHandler(consumer_key, consumer_secret)\n",
    "# auth.set_access_token(access_token, access_token_secret)\n",
    "# api = tweepy.API(auth)\n",
    "# keyword = 'ukraine'\n",
    "# limit=5000\n",
    "# # start_date = datetime.datetime(2022, 2, 24, 12, 00, 00)\n",
    "# end_date = datetime.datetime(2023, 1, 23, 12, 00, 00)\n",
    "# end_date = end_date.strftime(\"%Y-%m-%d\")\n",
    "\n",
    "# tweets = tweepy.Cursor(api.search_tweets, q=keyword, count=100, tweet_mode='extended', lang = 'ru', \n",
    "#                        result_type = 'mixed', until = end_date).items(limit)\n",
    "# # tweets = api.search_tweets(\"ukraine\", tweet_mode=\"extended\", lang='ru')\n",
    "\n",
    "# columns = ['User', 'Original Tweet']\n",
    "# data = []\n",
    "\n",
    "# #get tweet Id, location(city name, lang, long)\n",
    "# for tweet in tweets:\n",
    "#     data.append([tweet.user.screen_name, tweet.full_text])\n",
    "\n",
    "# df = pd.DataFrame(data, columns=columns)\n",
    "\n",
    "# print(df)\n"
   ]
  },
  {
   "cell_type": "code",
   "execution_count": 125,
   "id": "fe11ae76",
   "metadata": {
    "scrolled": true
   },
   "outputs": [],
   "source": [
    "# count = 0\n",
    "\n",
    "# keywords = [\"ukraine\", \"war\",'Украина','война','voyna']\n",
    "# for response in tweepy.Paginator(client.search_all_tweets, \n",
    "#                                  query = 'ukraine -is:retweet lang:ru',\n",
    "#                                  user_fields = ['username', 'public_metrics', 'description', 'location'],\n",
    "#                                  tweet_fields = ['created_at', 'geo', 'public_metrics', 'text'],\n",
    "#                                  expansions = 'author_id',\n",
    "#                                  start_time = '2022-02-18T00:00:00Z',\n",
    "#                                  end_time = '2022-03-18T00:00:00Z',\n",
    "#                                  max_results=500):\n",
    "#     time.sleep(1)\n",
    "#     if type(response) !=\n",
    "#     if len(response) > 0:\n",
    "#         for tweet in response:\n",
    "#             if tweet not in selected_tweets:\n",
    "#                 count += 1\n",
    "#                 selected_tweets.append(tweet)\n",
    "#             if count % 10 == 0:\n",
    "#                 print(count)\n",
    "#     if count >= 30:\n",
    "#         break\n",
    "\n",
    "\n",
    "\n",
    "# count = 0\n",
    "# keywords = [\"ukraine\", \"war\", 'Украина', 'война', 'voyna']\n",
    "\n",
    "# for page in tweepy.Paginator(client.search_all_tweets,\n",
    "#                              query = 'ukraine -is:retweet lang:ru',\n",
    "#                              user_fields=['username', 'public_metrics', 'description', 'location'],\n",
    "#                              tweet_fields=['created_at', 'geo', 'public_metrics', 'text'],\n",
    "#                              expansions='author_id',\n",
    "#                              start_time='2022-02-18T00:00:00Z',\n",
    "#                              end_time='2022-03-18T00:00:00Z',\n",
    "#                              max_results=500):\n",
    "#     time.sleep(1)\n",
    "#     if len(page) > 0:\n",
    "#         for item in page:  # Iterate through the items in the current page\n",
    "#             if isinstance(item, dict):  # Check if the item is a dictionary\n",
    "#                 tweet = item\n",
    "#                 if tweet not in selected_tweets:\n",
    "#                     count += 1\n",
    "#                     selected_tweets.append(tweet)\n",
    "#                     if count % 10 == 0:\n",
    "#                         print(count)\n",
    "\n",
    "#     if count >= 10:\n",
    "#         break"
   ]
  },
  {
   "cell_type": "code",
   "execution_count": 126,
   "id": "4f40ef8c",
   "metadata": {},
   "outputs": [],
   "source": [
    "# import tweepy\n",
    "# import time\n",
    "\n",
    "# count = 0\n",
    "# selected_tweets_data = []\n",
    "# selected_tweets_includes = []\n",
    "# keywords = [\"ukraine\", \"war\", 'Украина', 'война', 'voyna']\n",
    "\n",
    "# for page in tweepy.Paginator(client.search_all_tweets,\n",
    "#                              query = 'ukraine -is:retweet lang:ru',\n",
    "#                              user_fields=['username', 'public_metrics', 'description', 'location'],\n",
    "#                              tweet_fields=['created_at', 'geo', 'public_metrics', 'text'],\n",
    "#                              expansions='author_id',\n",
    "#                              start_time='2022-02-18T00:00:00Z',\n",
    "#                              end_time='2022-03-18T00:00:00Z',\n",
    "#                              max_results=500):\n",
    "#     time.sleep(1)\n",
    "\n",
    "#     if len(page) > 0:\n",
    "#         data = page.data\n",
    "#         includes = page.includes\n",
    "#         selected_tweets_data.append(data)\n",
    "#         selected_tweets_includes.append(includes)\n",
    "# #             tweet_includes.extend(includes.get('users', []))\n",
    "#     count += 1\n",
    "#     if count % 10 == 0:\n",
    "#         print(count)\n",
    "\n",
    "#     if count >= 10:\n",
    "#         break\n"
   ]
  },
  {
   "cell_type": "code",
   "execution_count": 127,
   "id": "7db97964",
   "metadata": {},
   "outputs": [],
   "source": [
    "# result = []\n",
    "# user_dict = {}\n",
    "# # Loop through each response object\n",
    "#     # Take all of the users, and put them into a dictionary of dictionaries with the info we want to keep\n",
    "    \n",
    "# for user in selected_tweets_includes:\n",
    "#     user_dict[user.id] = {'username': user.username, \n",
    "#                           'followers': user.public_metrics['followers_count'],\n",
    "#                           'tweets': user.public_metrics['tweet_count'],\n",
    "#                           'description': user.description,\n",
    "#                           'location': user.location\n",
    "#                              }\n",
    "\n",
    "# for tweet in selected_tweets_data:\n",
    "\n",
    "#     # For each tweet, find the author's information\n",
    "\n",
    "#     author_info = user_dict[tweet.author_id]\n",
    "\n",
    "#     # Put all of the information we want to keep in a single dictionary for each tweet\n",
    "\n",
    "#     result.append({'author_id': tweet.author_id, \n",
    "#                    'username': author_info['username'],\n",
    "#                    'author_followers': author_info['followers'],\n",
    "#                    'author_tweets': author_info['tweets'],\n",
    "#                    'author_description': author_info['description'],                   \n",
    "#                    'author_location': author_info['location'],                   \n",
    "#                    'text': tweet.text,                   \n",
    "#                    'created_at': tweet.created_at,                   \n",
    "#                    'retweets': tweet.public_metrics['retweet_count'],                   \n",
    "#                    'replies': tweet.public_metrics['reply_count'],                   \n",
    "#                    'likes': tweet.public_metrics['like_count'],                   \n",
    "#                    'quote_count': tweet.public_metrics['quote_count']\n",
    "#                       })\n",
    "\n",
    "# # Change this list of dictionaries into a dataframe\n",
    "# df = pd.DataFrame(result)"
   ]
  },
  {
   "cell_type": "code",
   "execution_count": 102,
   "id": "a193655a",
   "metadata": {},
   "outputs": [],
   "source": [
    "# count = 0\n",
    "# for response in selected_tweets:\n",
    "#     count+=1\n",
    "#     if isinstance(response, dict):\n",
    "#         print(\"The object is a dictionary.\")\n",
    "#         print(count)\n",
    "# #             print(response.keys())\n",
    "# #             print('\\n')"
   ]
  },
  {
   "cell_type": "code",
   "execution_count": 128,
   "id": "159c18e2",
   "metadata": {},
   "outputs": [],
   "source": [
    "log = pd.read_csv(\"log_in.csv\")\n",
    "bearer_token = log['key'][4]\n"
   ]
  },
  {
   "cell_type": "code",
   "execution_count": 135,
   "id": "a3c5ce26",
   "metadata": {},
   "outputs": [],
   "source": [
    "client = tweepy.Client(bearer_token, wait_on_rate_limit=True)"
   ]
  },
  {
   "cell_type": "code",
   "execution_count": 136,
   "id": "3fefa742",
   "metadata": {},
   "outputs": [],
   "source": [
    "selected_tweets = []"
   ]
  },
  {
   "cell_type": "code",
   "execution_count": null,
   "id": "31264d3a",
   "metadata": {},
   "outputs": [],
   "source": [
    "keywords = [\"ukraine\", \"war\",'Украина','война','voyna']\n",
    "for response in tweepy.Paginator(client.search_all_tweets, \n",
    "                                 query = 'война -is:retweet lang:ru',\n",
    "#                                  query=' OR '.join(keywords) + ' -is:retweet lang:ru',\n",
    "                                 user_fields = ['username', 'public_metrics', 'description', 'location'],\n",
    "                                 tweet_fields = ['created_at', 'geo', 'public_metrics', 'text'],\n",
    "                                 expansions = 'author_id',\n",
    "                                 start_time = '2022-02-18T00:00:00Z',\n",
    "                                 end_time = '2022-03-18T00:00:00Z',\n",
    "                                 max_results=500):\n",
    "    time.sleep(1)\n",
    "    selected_tweets.append(response)\n",
    "    if len(selected_tweets)%20==0:\n",
    "        print(len(selected_tweets))\n",
    "    if len(selected_tweets) > 5000:\n",
    "        break\n",
    "\n"
   ]
  },
  {
   "cell_type": "code",
   "execution_count": null,
   "id": "045fdb3e",
   "metadata": {},
   "outputs": [],
   "source": [
    "result = []\n",
    "user_dict = {}\n",
    "# Loop through each response object\n",
    "for response in selected_tweets:\n",
    "    # Take all of the users, and put them into a dictionary of dictionaries with the info we want to keep\n",
    "    for user in response.includes['users']:\n",
    "        user_dict[user.id] = {'username': user.username, \n",
    "                              'followers': user.public_metrics['followers_count'],\n",
    "                              'tweets': user.public_metrics['tweet_count'],\n",
    "                              'description': user.description,\n",
    "                              'location': user.location\n",
    "                             }\n",
    "    for tweet in response.data:\n",
    "        # For each tweet, find the author's information\n",
    "        author_info = user_dict[tweet.author_id]\n",
    "        # Put all of the information we want to keep in a single dictionary for each tweet\n",
    "        result.append({'author_id': tweet.author_id, \n",
    "                       'username': author_info['username'],\n",
    "                       'author_followers': author_info['followers'],\n",
    "                       'author_tweets': author_info['tweets'],\n",
    "                       'author_description': author_info['description'],\n",
    "                       'author_location': author_info['location'],\n",
    "                       'text': tweet.text,\n",
    "                       'created_at': tweet.created_at,\n",
    "                       'retweets': tweet.public_metrics['retweet_count'],\n",
    "                       'replies': tweet.public_metrics['reply_count'],\n",
    "                       'likes': tweet.public_metrics['like_count'],\n",
    "                       'quote_count': tweet.public_metrics['quote_count']\n",
    "                      })\n",
    "\n",
    "# Change this list of dictionaries into a dataframe\n",
    "df = pd.DataFrame(result)"
   ]
  },
  {
   "cell_type": "code",
   "execution_count": 146,
   "id": "1cb4295f",
   "metadata": {},
   "outputs": [
    {
     "data": {
      "text/html": [
       "<div>\n",
       "<style scoped>\n",
       "    .dataframe tbody tr th:only-of-type {\n",
       "        vertical-align: middle;\n",
       "    }\n",
       "\n",
       "    .dataframe tbody tr th {\n",
       "        vertical-align: top;\n",
       "    }\n",
       "\n",
       "    .dataframe thead th {\n",
       "        text-align: right;\n",
       "    }\n",
       "</style>\n",
       "<table border=\"1\" class=\"dataframe\">\n",
       "  <thead>\n",
       "    <tr style=\"text-align: right;\">\n",
       "      <th></th>\n",
       "      <th>author_id</th>\n",
       "      <th>username</th>\n",
       "      <th>author_followers</th>\n",
       "      <th>author_tweets</th>\n",
       "      <th>author_description</th>\n",
       "      <th>author_location</th>\n",
       "      <th>text</th>\n",
       "      <th>created_at</th>\n",
       "      <th>retweets</th>\n",
       "      <th>replies</th>\n",
       "      <th>likes</th>\n",
       "      <th>quote_count</th>\n",
       "    </tr>\n",
       "  </thead>\n",
       "  <tbody>\n",
       "    <tr>\n",
       "      <th>0</th>\n",
       "      <td>951596246577418242</td>\n",
       "      <td>Fends86332387</td>\n",
       "      <td>582</td>\n",
       "      <td>23095</td>\n",
       "      <td>Люблю «дедушку Ленина» (нежно), примерно как и...</td>\n",
       "      <td>USA, NE</td>\n",
       "      <td>@VictorKvert2008 К какой войне с Европой? \\nУк...</td>\n",
       "      <td>2022-03-17 23:58:37+00:00</td>\n",
       "      <td>0</td>\n",
       "      <td>1</td>\n",
       "      <td>1</td>\n",
       "      <td>0</td>\n",
       "    </tr>\n",
       "    <tr>\n",
       "      <th>1</th>\n",
       "      <td>32421337</td>\n",
       "      <td>Maksim85</td>\n",
       "      <td>773</td>\n",
       "      <td>10422</td>\n",
       "      <td>Everyone sees what you appear to be, few exper...</td>\n",
       "      <td>Chief Business Officer</td>\n",
       "      <td>#ukraine\\n\\n@IAPonomarenko это русская мать ищ...</td>\n",
       "      <td>2022-03-17 23:53:17+00:00</td>\n",
       "      <td>0</td>\n",
       "      <td>0</td>\n",
       "      <td>0</td>\n",
       "      <td>0</td>\n",
       "    </tr>\n",
       "    <tr>\n",
       "      <th>2</th>\n",
       "      <td>2830576792</td>\n",
       "      <td>vatnikliberal</td>\n",
       "      <td>497</td>\n",
       "      <td>912</td>\n",
       "      <td>American with a global perspective.</td>\n",
       "      <td>New York, NY</td>\n",
       "      <td>@hrstnka @MFA_Ukraine Нет это предсмертные суд...</td>\n",
       "      <td>2022-03-17 23:49:42+00:00</td>\n",
       "      <td>0</td>\n",
       "      <td>1</td>\n",
       "      <td>10</td>\n",
       "      <td>0</td>\n",
       "    </tr>\n",
       "    <tr>\n",
       "      <th>3</th>\n",
       "      <td>1385590958</td>\n",
       "      <td>NuraddinAbbasov</td>\n",
       "      <td>1461</td>\n",
       "      <td>17611</td>\n",
       "      <td>Baku State University   🇦🇿🌈🇹🇷</td>\n",
       "      <td>None</td>\n",
       "      <td>🇺🇦После обстрела оккупантов горит крупнейший в...</td>\n",
       "      <td>2022-03-17 23:45:48+00:00</td>\n",
       "      <td>0</td>\n",
       "      <td>0</td>\n",
       "      <td>0</td>\n",
       "      <td>0</td>\n",
       "    </tr>\n",
       "    <tr>\n",
       "      <th>4</th>\n",
       "      <td>1148664081425018880</td>\n",
       "      <td>kain1952</td>\n",
       "      <td>73</td>\n",
       "      <td>42639</td>\n",
       "      <td>#RussiaIsATerroristState #armukrainenow #Мальц...</td>\n",
       "      <td>концлагерь зона колония</td>\n",
       "      <td>Украина германию франции\\n#nowar #StopPutinNOW...</td>\n",
       "      <td>2022-03-17 23:43:58+00:00</td>\n",
       "      <td>0</td>\n",
       "      <td>0</td>\n",
       "      <td>0</td>\n",
       "      <td>0</td>\n",
       "    </tr>\n",
       "  </tbody>\n",
       "</table>\n",
       "</div>"
      ],
      "text/plain": [
       "             author_id         username  author_followers  author_tweets  \\\n",
       "0   951596246577418242    Fends86332387               582          23095   \n",
       "1             32421337         Maksim85               773          10422   \n",
       "2           2830576792    vatnikliberal               497            912   \n",
       "3           1385590958  NuraddinAbbasov              1461          17611   \n",
       "4  1148664081425018880         kain1952                73          42639   \n",
       "\n",
       "                                  author_description          author_location  \\\n",
       "0  Люблю «дедушку Ленина» (нежно), примерно как и...                  USA, NE   \n",
       "1  Everyone sees what you appear to be, few exper...   Chief Business Officer   \n",
       "2                American with a global perspective.            New York, NY    \n",
       "3                      Baku State University   🇦🇿🌈🇹🇷                     None   \n",
       "4  #RussiaIsATerroristState #armukrainenow #Мальц...  концлагерь зона колония   \n",
       "\n",
       "                                                text  \\\n",
       "0  @VictorKvert2008 К какой войне с Европой? \\nУк...   \n",
       "1  #ukraine\\n\\n@IAPonomarenko это русская мать ищ...   \n",
       "2  @hrstnka @MFA_Ukraine Нет это предсмертные суд...   \n",
       "3  🇺🇦После обстрела оккупантов горит крупнейший в...   \n",
       "4  Украина германию франции\\n#nowar #StopPutinNOW...   \n",
       "\n",
       "                 created_at  retweets  replies  likes  quote_count  \n",
       "0 2022-03-17 23:58:37+00:00         0        1      1            0  \n",
       "1 2022-03-17 23:53:17+00:00         0        0      0            0  \n",
       "2 2022-03-17 23:49:42+00:00         0        1     10            0  \n",
       "3 2022-03-17 23:45:48+00:00         0        0      0            0  \n",
       "4 2022-03-17 23:43:58+00:00         0        0      0            0  "
      ]
     },
     "execution_count": 146,
     "metadata": {},
     "output_type": "execute_result"
    }
   ],
   "source": [
    "df.head()"
   ]
  },
  {
   "cell_type": "code",
   "execution_count": 147,
   "id": "86c8112c",
   "metadata": {},
   "outputs": [
    {
     "data": {
      "text/plain": [
       "(104048, 12)"
      ]
     },
     "execution_count": 147,
     "metadata": {},
     "output_type": "execute_result"
    }
   ],
   "source": [
    "df.shape"
   ]
  },
  {
   "cell_type": "code",
   "execution_count": 73,
   "id": "53770c01",
   "metadata": {},
   "outputs": [],
   "source": [
    "# Code to clean the dataset.\n",
    "\n",
    "def clean_punc(line):\n",
    "    temp = re.sub(r'[?|!|\\'|\"|#]',r'',line)\n",
    "    temp = re.sub(r'[.|,|\"|\")|(|\\|/]',r' ',temp)\n",
    "    return  temp\n",
    "\n",
    "def clean_html(line):\n",
    "    cleanr = re.compile('<.*?>')\n",
    "    cleantext = re.sub(cleanr, ' ', line)\n",
    "    return cleantext\n",
    "\n",
    "def clean_space(line):\n",
    "    return \" \".join(line.split())\n",
    "\n",
    "\n",
    "def clean_char(line):\n",
    "    clean_ch = re.compile('[!@#$%^&*()_+-={};:\\'\\\"\\|<>,.///?`~।]', flags=re.I)\n",
    "    return clean_ch.sub(r'',line)\n",
    "\n",
    "\n",
    "def clean_non_bn_words(line):\n",
    "    clean_en = re.compile('[a-z]', flags=re.I)\n",
    "    clean_en_up = re.compile('[A-Z]', flags=re.I)\n",
    "    clean_digit = re.compile('[0-9]', flags=re.I)\n",
    "    line = clean_en.sub(r'',line)\n",
    "    line = clean_en_up.sub(r'',line)\n",
    "    return clean_digit.sub(r'',line)\n",
    "\n",
    "def clean_emo(line):\n",
    "    result = re.sub('[(\\U0001F600-\\U0001F92F|\\U0001F300-\\U0001F5FF|\\U0001F680-\\U0001F6FF|\\U0001F190-\\U0001F1FF|\\U00002702-\\U000027B0|\\U0001F926-\\U0001FA9F|\\u200d|\\u2640-\\u2642|\\u2600-\\u2B55|\\u23cf|\\u23e9|\\u231a|\\ufe0f)]+','',line)\n",
    "    return result\n",
    "\n",
    "\n",
    "def clean_all(line):\n",
    "    line = clean_link(line)\n",
    "    line = clean_html(line)\n",
    "    line = clean_mention(line)\n",
    "    line = clean_punc(line)\n",
    "    line = clean_char(line)\n",
    "    line = clean_space(line)\n",
    "    return clean_emo(line)\n",
    "\n",
    "\n",
    "# def float_to_int(val):\n",
    "#     return int(val)\n",
    "\n",
    "\n",
    "def clean_link(line):\n",
    "    line = re.sub(r'https://\\s?t\\.co/\\w+', '', line)\n",
    "    return re.sub(r\"(http\\S+|t\\.me\\S+)\", \"\", line)\n",
    "    \n",
    "    \n",
    "def clean_mention(line):\n",
    "    line = re.sub(r'#\\w+', '', line)\n",
    "    return re.sub(r'@\\w+', '', line)    "
   ]
  },
  {
   "cell_type": "code",
   "execution_count": 74,
   "id": "bcecbdc5",
   "metadata": {},
   "outputs": [],
   "source": [
    "# !pip install googletrans==4.0.0rc1"
   ]
  },
  {
   "cell_type": "code",
   "execution_count": 75,
   "id": "54364e61",
   "metadata": {},
   "outputs": [
    {
     "data": {
      "text/html": [
       "<div>\n",
       "<style scoped>\n",
       "    .dataframe tbody tr th:only-of-type {\n",
       "        vertical-align: middle;\n",
       "    }\n",
       "\n",
       "    .dataframe tbody tr th {\n",
       "        vertical-align: top;\n",
       "    }\n",
       "\n",
       "    .dataframe thead th {\n",
       "        text-align: right;\n",
       "    }\n",
       "</style>\n",
       "<table border=\"1\" class=\"dataframe\">\n",
       "  <thead>\n",
       "    <tr style=\"text-align: right;\">\n",
       "      <th></th>\n",
       "      <th>Unnamed: 0</th>\n",
       "      <th>author_id</th>\n",
       "      <th>username</th>\n",
       "      <th>author_followers</th>\n",
       "      <th>author_tweets</th>\n",
       "      <th>author_description</th>\n",
       "      <th>author_location</th>\n",
       "      <th>text</th>\n",
       "      <th>created_at</th>\n",
       "      <th>retweets</th>\n",
       "      <th>replies</th>\n",
       "      <th>likes</th>\n",
       "      <th>quote_count</th>\n",
       "    </tr>\n",
       "  </thead>\n",
       "  <tbody>\n",
       "    <tr>\n",
       "      <th>0</th>\n",
       "      <td>0</td>\n",
       "      <td>951596246577418242</td>\n",
       "      <td>Fends86332387</td>\n",
       "      <td>582</td>\n",
       "      <td>23095</td>\n",
       "      <td>Люблю «дедушку Ленина» (нежно), примерно как и...</td>\n",
       "      <td>USA, NE</td>\n",
       "      <td>@VictorKvert2008 К какой войне с Европой? \\nУк...</td>\n",
       "      <td>2022-03-17 23:58:37+00:00</td>\n",
       "      <td>0</td>\n",
       "      <td>1</td>\n",
       "      <td>1</td>\n",
       "      <td>0</td>\n",
       "    </tr>\n",
       "    <tr>\n",
       "      <th>1</th>\n",
       "      <td>1</td>\n",
       "      <td>32421337</td>\n",
       "      <td>Maksim85</td>\n",
       "      <td>773</td>\n",
       "      <td>10422</td>\n",
       "      <td>Everyone sees what you appear to be, few exper...</td>\n",
       "      <td>Chief Business Officer</td>\n",
       "      <td>#ukraine\\n\\n@IAPonomarenko это русская мать ищ...</td>\n",
       "      <td>2022-03-17 23:53:17+00:00</td>\n",
       "      <td>0</td>\n",
       "      <td>0</td>\n",
       "      <td>0</td>\n",
       "      <td>0</td>\n",
       "    </tr>\n",
       "    <tr>\n",
       "      <th>2</th>\n",
       "      <td>2</td>\n",
       "      <td>2830576792</td>\n",
       "      <td>vatnikliberal</td>\n",
       "      <td>497</td>\n",
       "      <td>912</td>\n",
       "      <td>American with a global perspective.</td>\n",
       "      <td>New York, NY</td>\n",
       "      <td>@hrstnka @MFA_Ukraine Нет это предсмертные суд...</td>\n",
       "      <td>2022-03-17 23:49:42+00:00</td>\n",
       "      <td>0</td>\n",
       "      <td>1</td>\n",
       "      <td>10</td>\n",
       "      <td>0</td>\n",
       "    </tr>\n",
       "    <tr>\n",
       "      <th>3</th>\n",
       "      <td>3</td>\n",
       "      <td>1385590958</td>\n",
       "      <td>NuraddinAbbasov</td>\n",
       "      <td>1461</td>\n",
       "      <td>17611</td>\n",
       "      <td>Baku State University   🇦🇿🌈🇹🇷</td>\n",
       "      <td>NaN</td>\n",
       "      <td>🇺🇦После обстрела оккупантов горит крупнейший в...</td>\n",
       "      <td>2022-03-17 23:45:48+00:00</td>\n",
       "      <td>0</td>\n",
       "      <td>0</td>\n",
       "      <td>0</td>\n",
       "      <td>0</td>\n",
       "    </tr>\n",
       "    <tr>\n",
       "      <th>4</th>\n",
       "      <td>4</td>\n",
       "      <td>1148664081425018880</td>\n",
       "      <td>kain1952</td>\n",
       "      <td>73</td>\n",
       "      <td>42639</td>\n",
       "      <td>#RussiaIsATerroristState #armukrainenow #Мальц...</td>\n",
       "      <td>концлагерь зона колония</td>\n",
       "      <td>Украина германию франции\\n#nowar #StopPutinNOW...</td>\n",
       "      <td>2022-03-17 23:43:58+00:00</td>\n",
       "      <td>0</td>\n",
       "      <td>0</td>\n",
       "      <td>0</td>\n",
       "      <td>0</td>\n",
       "    </tr>\n",
       "  </tbody>\n",
       "</table>\n",
       "</div>"
      ],
      "text/plain": [
       "   Unnamed: 0            author_id         username  author_followers  \\\n",
       "0           0   951596246577418242    Fends86332387               582   \n",
       "1           1             32421337         Maksim85               773   \n",
       "2           2           2830576792    vatnikliberal               497   \n",
       "3           3           1385590958  NuraddinAbbasov              1461   \n",
       "4           4  1148664081425018880         kain1952                73   \n",
       "\n",
       "   author_tweets                                 author_description  \\\n",
       "0          23095  Люблю «дедушку Ленина» (нежно), примерно как и...   \n",
       "1          10422  Everyone sees what you appear to be, few exper...   \n",
       "2            912                American with a global perspective.   \n",
       "3          17611                      Baku State University   🇦🇿🌈🇹🇷   \n",
       "4          42639  #RussiaIsATerroristState #armukrainenow #Мальц...   \n",
       "\n",
       "           author_location                                               text  \\\n",
       "0                  USA, NE  @VictorKvert2008 К какой войне с Европой? \\nУк...   \n",
       "1   Chief Business Officer  #ukraine\\n\\n@IAPonomarenko это русская мать ищ...   \n",
       "2            New York, NY   @hrstnka @MFA_Ukraine Нет это предсмертные суд...   \n",
       "3                      NaN  🇺🇦После обстрела оккупантов горит крупнейший в...   \n",
       "4  концлагерь зона колония  Украина германию франции\\n#nowar #StopPutinNOW...   \n",
       "\n",
       "                  created_at  retweets  replies  likes  quote_count  \n",
       "0  2022-03-17 23:58:37+00:00         0        1      1            0  \n",
       "1  2022-03-17 23:53:17+00:00         0        0      0            0  \n",
       "2  2022-03-17 23:49:42+00:00         0        1     10            0  \n",
       "3  2022-03-17 23:45:48+00:00         0        0      0            0  \n",
       "4  2022-03-17 23:43:58+00:00         0        0      0            0  "
      ]
     },
     "execution_count": 75,
     "metadata": {},
     "output_type": "execute_result"
    }
   ],
   "source": [
    "df_main = pd.read_csv('scrapped_tweets_ru.csv')\n",
    "\n",
    "df_main.head()"
   ]
  },
  {
   "cell_type": "code",
   "execution_count": 76,
   "id": "8d18da11",
   "metadata": {},
   "outputs": [
    {
     "data": {
      "text/plain": [
       "(86626, 13)"
      ]
     },
     "execution_count": 76,
     "metadata": {},
     "output_type": "execute_result"
    }
   ],
   "source": [
    "df_main.shape"
   ]
  },
  {
   "cell_type": "code",
   "execution_count": 77,
   "id": "217e84b7",
   "metadata": {},
   "outputs": [],
   "source": [
    "cleaned_text = []\n",
    "for line in df_main['text']:\n",
    "    temp = clean_all(line)\n",
    "    cleaned_text.append(temp)"
   ]
  },
  {
   "cell_type": "code",
   "execution_count": 78,
   "id": "67411eb5",
   "metadata": {},
   "outputs": [],
   "source": [
    "df_main['Cleaned Text'] = cleaned_text"
   ]
  },
  {
   "cell_type": "code",
   "execution_count": 79,
   "id": "fab66cfd",
   "metadata": {},
   "outputs": [
    {
     "name": "stdout",
     "output_type": "stream",
     "text": [
      "Украина германию франции\n",
      "#nowar #StopPutinNOW #StopRussia #NOflyZoneUA  \n",
      "#UkraineWar #UkraineRussianWar #Ukraine\n",
      "russian #putin в россии рогозин кремля лукошенко белоруссии кадырова шойгу ссср путина- ФАШИСТЫ ПРОКЛЯТЫЕ ТЕРРОРИСТЫ МАРОДЁРЫ ИДИТЕ НА ХУЙ https://t.co/XCw8ROpDzd\n",
      "\n",
      "\n",
      "Украина германию франции russian в россии рогозин кремля лукошенко белоруссии кадырова шойгу ссср путина ФАШИСТЫ ПРОКЛЯТЫЕ ТЕРРОРИСТЫ МАРОДЁРЫ ИДИТЕ НА ХУЙ\n"
     ]
    }
   ],
   "source": [
    "check_line = 4\n",
    "print(df_main['text'][check_line])\n",
    "print('\\n')\n",
    "print(cleaned_text[check_line]) \n"
   ]
  },
  {
   "cell_type": "code",
   "execution_count": 81,
   "id": "273a5459",
   "metadata": {},
   "outputs": [
    {
     "name": "stdout",
     "output_type": "stream",
     "text": [
      "During the Putin war in Ukraine, civilian and residential buildings are bombing and also abduct civilians such as the mayors of the someone very frankly distorted perception when it comes to peacekeeping missions\n"
     ]
    }
   ],
   "source": [
    "from googletrans import Translator\n",
    "translator = Translator()\n",
    "translated = translator.translate(text=df_main['Cleaned Text'][4], dest='en')\n",
    "print(translated.text)"
   ]
  },
  {
   "cell_type": "code",
   "execution_count": 82,
   "id": "7b01e81e",
   "metadata": {},
   "outputs": [
    {
     "ename": "ReadTimeout",
     "evalue": "The read operation timed out",
     "output_type": "error",
     "traceback": [
      "\u001b[1;31m---------------------------------------------------------------------------\u001b[0m",
      "\u001b[1;31mReadTimeout\u001b[0m                               Traceback (most recent call last)",
      "Cell \u001b[1;32mIn[82], line 7\u001b[0m\n\u001b[0;32m      3\u001b[0m translated_text \u001b[38;5;241m=\u001b[39m []\n\u001b[0;32m      5\u001b[0m \u001b[38;5;28;01mfor\u001b[39;00m text \u001b[38;5;129;01min\u001b[39;00m df_main[\u001b[38;5;124m'\u001b[39m\u001b[38;5;124mCleaned Text\u001b[39m\u001b[38;5;124m'\u001b[39m]:\n\u001b[1;32m----> 7\u001b[0m     temp_text \u001b[38;5;241m=\u001b[39m \u001b[43mtranslator\u001b[49m\u001b[38;5;241;43m.\u001b[39;49m\u001b[43mtranslate\u001b[49m\u001b[43m(\u001b[49m\u001b[43mtext\u001b[49m\u001b[38;5;241;43m=\u001b[39;49m\u001b[43mtext\u001b[49m\u001b[43m,\u001b[49m\u001b[43m \u001b[49m\u001b[43mdest\u001b[49m\u001b[38;5;241;43m=\u001b[39;49m\u001b[38;5;124;43m'\u001b[39;49m\u001b[38;5;124;43men\u001b[39;49m\u001b[38;5;124;43m'\u001b[39;49m\u001b[43m)\u001b[49m\n\u001b[0;32m      8\u001b[0m     translated_text\u001b[38;5;241m.\u001b[39mappend(temp_text\u001b[38;5;241m.\u001b[39mtext)\n",
      "File \u001b[1;32m~\\miniconda3\\envs\\tensor\\lib\\site-packages\\googletrans\\client.py:194\u001b[0m, in \u001b[0;36mTranslator.translate\u001b[1;34m(self, text, dest, src)\u001b[0m\n\u001b[0;32m    191\u001b[0m         \u001b[38;5;28;01mraise\u001b[39;00m \u001b[38;5;167;01mValueError\u001b[39;00m(\u001b[38;5;124m'\u001b[39m\u001b[38;5;124minvalid destination language\u001b[39m\u001b[38;5;124m'\u001b[39m)\n\u001b[0;32m    193\u001b[0m origin \u001b[38;5;241m=\u001b[39m text\n\u001b[1;32m--> 194\u001b[0m data, response \u001b[38;5;241m=\u001b[39m \u001b[38;5;28;43mself\u001b[39;49m\u001b[38;5;241;43m.\u001b[39;49m\u001b[43m_translate\u001b[49m\u001b[43m(\u001b[49m\u001b[43mtext\u001b[49m\u001b[43m,\u001b[49m\u001b[43m \u001b[49m\u001b[43mdest\u001b[49m\u001b[43m,\u001b[49m\u001b[43m \u001b[49m\u001b[43msrc\u001b[49m\u001b[43m)\u001b[49m\n\u001b[0;32m    196\u001b[0m token_found \u001b[38;5;241m=\u001b[39m \u001b[38;5;28;01mFalse\u001b[39;00m\n\u001b[0;32m    197\u001b[0m square_bracket_counts \u001b[38;5;241m=\u001b[39m [\u001b[38;5;241m0\u001b[39m, \u001b[38;5;241m0\u001b[39m]\n",
      "File \u001b[1;32m~\\miniconda3\\envs\\tensor\\lib\\site-packages\\googletrans\\client.py:120\u001b[0m, in \u001b[0;36mTranslator._translate\u001b[1;34m(self, text, dest, src)\u001b[0m\n\u001b[0;32m    109\u001b[0m data \u001b[38;5;241m=\u001b[39m {\n\u001b[0;32m    110\u001b[0m     \u001b[38;5;124m'\u001b[39m\u001b[38;5;124mf.req\u001b[39m\u001b[38;5;124m'\u001b[39m: \u001b[38;5;28mself\u001b[39m\u001b[38;5;241m.\u001b[39m_build_rpc_request(text, dest, src),\n\u001b[0;32m    111\u001b[0m }\n\u001b[0;32m    112\u001b[0m params \u001b[38;5;241m=\u001b[39m {\n\u001b[0;32m    113\u001b[0m     \u001b[38;5;124m'\u001b[39m\u001b[38;5;124mrpcids\u001b[39m\u001b[38;5;124m'\u001b[39m: RPC_ID,\n\u001b[0;32m    114\u001b[0m     \u001b[38;5;124m'\u001b[39m\u001b[38;5;124mbl\u001b[39m\u001b[38;5;124m'\u001b[39m: \u001b[38;5;124m'\u001b[39m\u001b[38;5;124mboq_translate-webserver_20201207.13_p0\u001b[39m\u001b[38;5;124m'\u001b[39m,\n\u001b[1;32m   (...)\u001b[0m\n\u001b[0;32m    118\u001b[0m     \u001b[38;5;124m'\u001b[39m\u001b[38;5;124mrt\u001b[39m\u001b[38;5;124m'\u001b[39m: \u001b[38;5;124m'\u001b[39m\u001b[38;5;124mc\u001b[39m\u001b[38;5;124m'\u001b[39m,\n\u001b[0;32m    119\u001b[0m }\n\u001b[1;32m--> 120\u001b[0m r \u001b[38;5;241m=\u001b[39m \u001b[38;5;28;43mself\u001b[39;49m\u001b[38;5;241;43m.\u001b[39;49m\u001b[43mclient\u001b[49m\u001b[38;5;241;43m.\u001b[39;49m\u001b[43mpost\u001b[49m\u001b[43m(\u001b[49m\u001b[43murl\u001b[49m\u001b[43m,\u001b[49m\u001b[43m \u001b[49m\u001b[43mparams\u001b[49m\u001b[38;5;241;43m=\u001b[39;49m\u001b[43mparams\u001b[49m\u001b[43m,\u001b[49m\u001b[43m \u001b[49m\u001b[43mdata\u001b[49m\u001b[38;5;241;43m=\u001b[39;49m\u001b[43mdata\u001b[49m\u001b[43m)\u001b[49m\n\u001b[0;32m    122\u001b[0m \u001b[38;5;28;01mif\u001b[39;00m r\u001b[38;5;241m.\u001b[39mstatus_code \u001b[38;5;241m!=\u001b[39m \u001b[38;5;241m200\u001b[39m \u001b[38;5;129;01mand\u001b[39;00m \u001b[38;5;28mself\u001b[39m\u001b[38;5;241m.\u001b[39mraise_Exception:\n\u001b[0;32m    123\u001b[0m     \u001b[38;5;28;01mraise\u001b[39;00m \u001b[38;5;167;01mException\u001b[39;00m(\u001b[38;5;124m'\u001b[39m\u001b[38;5;124mUnexpected status code \u001b[39m\u001b[38;5;124m\"\u001b[39m\u001b[38;5;132;01m{}\u001b[39;00m\u001b[38;5;124m\"\u001b[39m\u001b[38;5;124m from \u001b[39m\u001b[38;5;132;01m{}\u001b[39;00m\u001b[38;5;124m'\u001b[39m\u001b[38;5;241m.\u001b[39mformat(\n\u001b[0;32m    124\u001b[0m         r\u001b[38;5;241m.\u001b[39mstatus_code, \u001b[38;5;28mself\u001b[39m\u001b[38;5;241m.\u001b[39mservice_urls))\n",
      "File \u001b[1;32m~\\miniconda3\\envs\\tensor\\lib\\site-packages\\httpx\\_client.py:824\u001b[0m, in \u001b[0;36mClient.post\u001b[1;34m(self, url, data, files, json, params, headers, cookies, auth, allow_redirects, timeout)\u001b[0m\n\u001b[0;32m    810\u001b[0m \u001b[38;5;28;01mdef\u001b[39;00m \u001b[38;5;21mpost\u001b[39m(\n\u001b[0;32m    811\u001b[0m     \u001b[38;5;28mself\u001b[39m,\n\u001b[0;32m    812\u001b[0m     url: URLTypes,\n\u001b[1;32m   (...)\u001b[0m\n\u001b[0;32m    822\u001b[0m     timeout: typing\u001b[38;5;241m.\u001b[39mUnion[TimeoutTypes, UnsetType] \u001b[38;5;241m=\u001b[39m UNSET,\n\u001b[0;32m    823\u001b[0m ) \u001b[38;5;241m-\u001b[39m\u001b[38;5;241m>\u001b[39m Response:\n\u001b[1;32m--> 824\u001b[0m     \u001b[38;5;28;01mreturn\u001b[39;00m \u001b[38;5;28;43mself\u001b[39;49m\u001b[38;5;241;43m.\u001b[39;49m\u001b[43mrequest\u001b[49m\u001b[43m(\u001b[49m\n\u001b[0;32m    825\u001b[0m \u001b[43m        \u001b[49m\u001b[38;5;124;43m\"\u001b[39;49m\u001b[38;5;124;43mPOST\u001b[39;49m\u001b[38;5;124;43m\"\u001b[39;49m\u001b[43m,\u001b[49m\n\u001b[0;32m    826\u001b[0m \u001b[43m        \u001b[49m\u001b[43murl\u001b[49m\u001b[43m,\u001b[49m\n\u001b[0;32m    827\u001b[0m \u001b[43m        \u001b[49m\u001b[43mdata\u001b[49m\u001b[38;5;241;43m=\u001b[39;49m\u001b[43mdata\u001b[49m\u001b[43m,\u001b[49m\n\u001b[0;32m    828\u001b[0m \u001b[43m        \u001b[49m\u001b[43mfiles\u001b[49m\u001b[38;5;241;43m=\u001b[39;49m\u001b[43mfiles\u001b[49m\u001b[43m,\u001b[49m\n\u001b[0;32m    829\u001b[0m \u001b[43m        \u001b[49m\u001b[43mjson\u001b[49m\u001b[38;5;241;43m=\u001b[39;49m\u001b[43mjson\u001b[49m\u001b[43m,\u001b[49m\n\u001b[0;32m    830\u001b[0m \u001b[43m        \u001b[49m\u001b[43mparams\u001b[49m\u001b[38;5;241;43m=\u001b[39;49m\u001b[43mparams\u001b[49m\u001b[43m,\u001b[49m\n\u001b[0;32m    831\u001b[0m \u001b[43m        \u001b[49m\u001b[43mheaders\u001b[49m\u001b[38;5;241;43m=\u001b[39;49m\u001b[43mheaders\u001b[49m\u001b[43m,\u001b[49m\n\u001b[0;32m    832\u001b[0m \u001b[43m        \u001b[49m\u001b[43mcookies\u001b[49m\u001b[38;5;241;43m=\u001b[39;49m\u001b[43mcookies\u001b[49m\u001b[43m,\u001b[49m\n\u001b[0;32m    833\u001b[0m \u001b[43m        \u001b[49m\u001b[43mauth\u001b[49m\u001b[38;5;241;43m=\u001b[39;49m\u001b[43mauth\u001b[49m\u001b[43m,\u001b[49m\n\u001b[0;32m    834\u001b[0m \u001b[43m        \u001b[49m\u001b[43mallow_redirects\u001b[49m\u001b[38;5;241;43m=\u001b[39;49m\u001b[43mallow_redirects\u001b[49m\u001b[43m,\u001b[49m\n\u001b[0;32m    835\u001b[0m \u001b[43m        \u001b[49m\u001b[43mtimeout\u001b[49m\u001b[38;5;241;43m=\u001b[39;49m\u001b[43mtimeout\u001b[49m\u001b[43m,\u001b[49m\n\u001b[0;32m    836\u001b[0m \u001b[43m    \u001b[49m\u001b[43m)\u001b[49m\n",
      "File \u001b[1;32m~\\miniconda3\\envs\\tensor\\lib\\site-packages\\httpx\\_client.py:600\u001b[0m, in \u001b[0;36mClient.request\u001b[1;34m(self, method, url, data, files, json, params, headers, cookies, auth, allow_redirects, timeout)\u001b[0m\n\u001b[0;32m    575\u001b[0m \u001b[38;5;28;01mdef\u001b[39;00m \u001b[38;5;21mrequest\u001b[39m(\n\u001b[0;32m    576\u001b[0m     \u001b[38;5;28mself\u001b[39m,\n\u001b[0;32m    577\u001b[0m     method: \u001b[38;5;28mstr\u001b[39m,\n\u001b[1;32m   (...)\u001b[0m\n\u001b[0;32m    588\u001b[0m     timeout: typing\u001b[38;5;241m.\u001b[39mUnion[TimeoutTypes, UnsetType] \u001b[38;5;241m=\u001b[39m UNSET,\n\u001b[0;32m    589\u001b[0m ) \u001b[38;5;241m-\u001b[39m\u001b[38;5;241m>\u001b[39m Response:\n\u001b[0;32m    590\u001b[0m     request \u001b[38;5;241m=\u001b[39m \u001b[38;5;28mself\u001b[39m\u001b[38;5;241m.\u001b[39mbuild_request(\n\u001b[0;32m    591\u001b[0m         method\u001b[38;5;241m=\u001b[39mmethod,\n\u001b[0;32m    592\u001b[0m         url\u001b[38;5;241m=\u001b[39murl,\n\u001b[1;32m   (...)\u001b[0m\n\u001b[0;32m    598\u001b[0m         cookies\u001b[38;5;241m=\u001b[39mcookies,\n\u001b[0;32m    599\u001b[0m     )\n\u001b[1;32m--> 600\u001b[0m     \u001b[38;5;28;01mreturn\u001b[39;00m \u001b[38;5;28;43mself\u001b[39;49m\u001b[38;5;241;43m.\u001b[39;49m\u001b[43msend\u001b[49m\u001b[43m(\u001b[49m\n\u001b[0;32m    601\u001b[0m \u001b[43m        \u001b[49m\u001b[43mrequest\u001b[49m\u001b[43m,\u001b[49m\u001b[43m \u001b[49m\u001b[43mauth\u001b[49m\u001b[38;5;241;43m=\u001b[39;49m\u001b[43mauth\u001b[49m\u001b[43m,\u001b[49m\u001b[43m \u001b[49m\u001b[43mallow_redirects\u001b[49m\u001b[38;5;241;43m=\u001b[39;49m\u001b[43mallow_redirects\u001b[49m\u001b[43m,\u001b[49m\u001b[43m \u001b[49m\u001b[43mtimeout\u001b[49m\u001b[38;5;241;43m=\u001b[39;49m\u001b[43mtimeout\u001b[49m\u001b[43m,\u001b[49m\n\u001b[0;32m    602\u001b[0m \u001b[43m    \u001b[49m\u001b[43m)\u001b[49m\n",
      "File \u001b[1;32m~\\miniconda3\\envs\\tensor\\lib\\site-packages\\httpx\\_client.py:620\u001b[0m, in \u001b[0;36mClient.send\u001b[1;34m(self, request, stream, auth, allow_redirects, timeout)\u001b[0m\n\u001b[0;32m    616\u001b[0m timeout \u001b[38;5;241m=\u001b[39m \u001b[38;5;28mself\u001b[39m\u001b[38;5;241m.\u001b[39mtimeout \u001b[38;5;28;01mif\u001b[39;00m \u001b[38;5;28misinstance\u001b[39m(timeout, UnsetType) \u001b[38;5;28;01melse\u001b[39;00m Timeout(timeout)\n\u001b[0;32m    618\u001b[0m auth \u001b[38;5;241m=\u001b[39m \u001b[38;5;28mself\u001b[39m\u001b[38;5;241m.\u001b[39mbuild_auth(request, auth)\n\u001b[1;32m--> 620\u001b[0m response \u001b[38;5;241m=\u001b[39m \u001b[38;5;28;43mself\u001b[39;49m\u001b[38;5;241;43m.\u001b[39;49m\u001b[43msend_handling_redirects\u001b[49m\u001b[43m(\u001b[49m\n\u001b[0;32m    621\u001b[0m \u001b[43m    \u001b[49m\u001b[43mrequest\u001b[49m\u001b[43m,\u001b[49m\u001b[43m \u001b[49m\u001b[43mauth\u001b[49m\u001b[38;5;241;43m=\u001b[39;49m\u001b[43mauth\u001b[49m\u001b[43m,\u001b[49m\u001b[43m \u001b[49m\u001b[43mtimeout\u001b[49m\u001b[38;5;241;43m=\u001b[39;49m\u001b[43mtimeout\u001b[49m\u001b[43m,\u001b[49m\u001b[43m \u001b[49m\u001b[43mallow_redirects\u001b[49m\u001b[38;5;241;43m=\u001b[39;49m\u001b[43mallow_redirects\u001b[49m\u001b[43m,\u001b[49m\n\u001b[0;32m    622\u001b[0m \u001b[43m\u001b[49m\u001b[43m)\u001b[49m\n\u001b[0;32m    624\u001b[0m \u001b[38;5;28;01mif\u001b[39;00m \u001b[38;5;129;01mnot\u001b[39;00m stream:\n\u001b[0;32m    625\u001b[0m     \u001b[38;5;28;01mtry\u001b[39;00m:\n",
      "File \u001b[1;32m~\\miniconda3\\envs\\tensor\\lib\\site-packages\\httpx\\_client.py:647\u001b[0m, in \u001b[0;36mClient.send_handling_redirects\u001b[1;34m(self, request, auth, timeout, allow_redirects, history)\u001b[0m\n\u001b[0;32m    644\u001b[0m \u001b[38;5;28;01mif\u001b[39;00m \u001b[38;5;28mlen\u001b[39m(history) \u001b[38;5;241m>\u001b[39m \u001b[38;5;28mself\u001b[39m\u001b[38;5;241m.\u001b[39mmax_redirects:\n\u001b[0;32m    645\u001b[0m     \u001b[38;5;28;01mraise\u001b[39;00m TooManyRedirects()\n\u001b[1;32m--> 647\u001b[0m response \u001b[38;5;241m=\u001b[39m \u001b[38;5;28;43mself\u001b[39;49m\u001b[38;5;241;43m.\u001b[39;49m\u001b[43msend_handling_auth\u001b[49m\u001b[43m(\u001b[49m\n\u001b[0;32m    648\u001b[0m \u001b[43m    \u001b[49m\u001b[43mrequest\u001b[49m\u001b[43m,\u001b[49m\u001b[43m \u001b[49m\u001b[43mauth\u001b[49m\u001b[38;5;241;43m=\u001b[39;49m\u001b[43mauth\u001b[49m\u001b[43m,\u001b[49m\u001b[43m \u001b[49m\u001b[43mtimeout\u001b[49m\u001b[38;5;241;43m=\u001b[39;49m\u001b[43mtimeout\u001b[49m\u001b[43m,\u001b[49m\u001b[43m \u001b[49m\u001b[43mhistory\u001b[49m\u001b[38;5;241;43m=\u001b[39;49m\u001b[43mhistory\u001b[49m\n\u001b[0;32m    649\u001b[0m \u001b[43m\u001b[49m\u001b[43m)\u001b[49m\n\u001b[0;32m    650\u001b[0m response\u001b[38;5;241m.\u001b[39mhistory \u001b[38;5;241m=\u001b[39m \u001b[38;5;28mlist\u001b[39m(history)\n\u001b[0;32m    652\u001b[0m \u001b[38;5;28;01mif\u001b[39;00m \u001b[38;5;129;01mnot\u001b[39;00m response\u001b[38;5;241m.\u001b[39mis_redirect:\n",
      "File \u001b[1;32m~\\miniconda3\\envs\\tensor\\lib\\site-packages\\httpx\\_client.py:684\u001b[0m, in \u001b[0;36mClient.send_handling_auth\u001b[1;34m(self, request, history, auth, timeout)\u001b[0m\n\u001b[0;32m    682\u001b[0m request \u001b[38;5;241m=\u001b[39m \u001b[38;5;28mnext\u001b[39m(auth_flow)\n\u001b[0;32m    683\u001b[0m \u001b[38;5;28;01mwhile\u001b[39;00m \u001b[38;5;28;01mTrue\u001b[39;00m:\n\u001b[1;32m--> 684\u001b[0m     response \u001b[38;5;241m=\u001b[39m \u001b[38;5;28;43mself\u001b[39;49m\u001b[38;5;241;43m.\u001b[39;49m\u001b[43msend_single_request\u001b[49m\u001b[43m(\u001b[49m\u001b[43mrequest\u001b[49m\u001b[43m,\u001b[49m\u001b[43m \u001b[49m\u001b[43mtimeout\u001b[49m\u001b[43m)\u001b[49m\n\u001b[0;32m    685\u001b[0m     \u001b[38;5;28;01mif\u001b[39;00m auth\u001b[38;5;241m.\u001b[39mrequires_response_body:\n\u001b[0;32m    686\u001b[0m         response\u001b[38;5;241m.\u001b[39mread()\n",
      "File \u001b[1;32m~\\miniconda3\\envs\\tensor\\lib\\site-packages\\httpx\\_client.py:714\u001b[0m, in \u001b[0;36mClient.send_single_request\u001b[1;34m(self, request, timeout)\u001b[0m\n\u001b[0;32m    705\u001b[0m transport \u001b[38;5;241m=\u001b[39m \u001b[38;5;28mself\u001b[39m\u001b[38;5;241m.\u001b[39mtransport_for_url(request\u001b[38;5;241m.\u001b[39murl)\n\u001b[0;32m    707\u001b[0m \u001b[38;5;28;01mtry\u001b[39;00m:\n\u001b[0;32m    708\u001b[0m     (\n\u001b[0;32m    709\u001b[0m         http_version,\n\u001b[0;32m    710\u001b[0m         status_code,\n\u001b[0;32m    711\u001b[0m         reason_phrase,\n\u001b[0;32m    712\u001b[0m         headers,\n\u001b[0;32m    713\u001b[0m         stream,\n\u001b[1;32m--> 714\u001b[0m     ) \u001b[38;5;241m=\u001b[39m \u001b[43mtransport\u001b[49m\u001b[38;5;241;43m.\u001b[39;49m\u001b[43mrequest\u001b[49m\u001b[43m(\u001b[49m\n\u001b[0;32m    715\u001b[0m \u001b[43m        \u001b[49m\u001b[43mrequest\u001b[49m\u001b[38;5;241;43m.\u001b[39;49m\u001b[43mmethod\u001b[49m\u001b[38;5;241;43m.\u001b[39;49m\u001b[43mencode\u001b[49m\u001b[43m(\u001b[49m\u001b[43m)\u001b[49m\u001b[43m,\u001b[49m\n\u001b[0;32m    716\u001b[0m \u001b[43m        \u001b[49m\u001b[43mrequest\u001b[49m\u001b[38;5;241;43m.\u001b[39;49m\u001b[43murl\u001b[49m\u001b[38;5;241;43m.\u001b[39;49m\u001b[43mraw\u001b[49m\u001b[43m,\u001b[49m\n\u001b[0;32m    717\u001b[0m \u001b[43m        \u001b[49m\u001b[43mheaders\u001b[49m\u001b[38;5;241;43m=\u001b[39;49m\u001b[43mrequest\u001b[49m\u001b[38;5;241;43m.\u001b[39;49m\u001b[43mheaders\u001b[49m\u001b[38;5;241;43m.\u001b[39;49m\u001b[43mraw\u001b[49m\u001b[43m,\u001b[49m\n\u001b[0;32m    718\u001b[0m \u001b[43m        \u001b[49m\u001b[43mstream\u001b[49m\u001b[38;5;241;43m=\u001b[39;49m\u001b[43mrequest\u001b[49m\u001b[38;5;241;43m.\u001b[39;49m\u001b[43mstream\u001b[49m\u001b[43m,\u001b[49m\n\u001b[0;32m    719\u001b[0m \u001b[43m        \u001b[49m\u001b[43mtimeout\u001b[49m\u001b[38;5;241;43m=\u001b[39;49m\u001b[43mtimeout\u001b[49m\u001b[38;5;241;43m.\u001b[39;49m\u001b[43mas_dict\u001b[49m\u001b[43m(\u001b[49m\u001b[43m)\u001b[49m\u001b[43m,\u001b[49m\n\u001b[0;32m    720\u001b[0m \u001b[43m    \u001b[49m\u001b[43m)\u001b[49m\n\u001b[0;32m    721\u001b[0m \u001b[38;5;28;01mexcept\u001b[39;00m HTTPError \u001b[38;5;28;01mas\u001b[39;00m exc:\n\u001b[0;32m    722\u001b[0m     \u001b[38;5;66;03m# Add the original request to any HTTPError unless\u001b[39;00m\n\u001b[0;32m    723\u001b[0m     \u001b[38;5;66;03m# there'a already a request attached in the case of\u001b[39;00m\n\u001b[0;32m    724\u001b[0m     \u001b[38;5;66;03m# a ProxyError.\u001b[39;00m\n\u001b[0;32m    725\u001b[0m     \u001b[38;5;28;01mif\u001b[39;00m exc\u001b[38;5;241m.\u001b[39m_request \u001b[38;5;129;01mis\u001b[39;00m \u001b[38;5;28;01mNone\u001b[39;00m:\n",
      "File \u001b[1;32m~\\miniconda3\\envs\\tensor\\lib\\site-packages\\httpcore\\_sync\\connection_pool.py:152\u001b[0m, in \u001b[0;36mSyncConnectionPool.request\u001b[1;34m(self, method, url, headers, stream, timeout)\u001b[0m\n\u001b[0;32m    149\u001b[0m         logger\u001b[38;5;241m.\u001b[39mtrace(\u001b[38;5;124m\"\u001b[39m\u001b[38;5;124mreuse connection=\u001b[39m\u001b[38;5;132;01m%r\u001b[39;00m\u001b[38;5;124m\"\u001b[39m, connection)\n\u001b[0;32m    151\u001b[0m \u001b[38;5;28;01mtry\u001b[39;00m:\n\u001b[1;32m--> 152\u001b[0m     response \u001b[38;5;241m=\u001b[39m \u001b[43mconnection\u001b[49m\u001b[38;5;241;43m.\u001b[39;49m\u001b[43mrequest\u001b[49m\u001b[43m(\u001b[49m\n\u001b[0;32m    153\u001b[0m \u001b[43m        \u001b[49m\u001b[43mmethod\u001b[49m\u001b[43m,\u001b[49m\u001b[43m \u001b[49m\u001b[43murl\u001b[49m\u001b[43m,\u001b[49m\u001b[43m \u001b[49m\u001b[43mheaders\u001b[49m\u001b[38;5;241;43m=\u001b[39;49m\u001b[43mheaders\u001b[49m\u001b[43m,\u001b[49m\u001b[43m \u001b[49m\u001b[43mstream\u001b[49m\u001b[38;5;241;43m=\u001b[39;49m\u001b[43mstream\u001b[49m\u001b[43m,\u001b[49m\u001b[43m \u001b[49m\u001b[43mtimeout\u001b[49m\u001b[38;5;241;43m=\u001b[39;49m\u001b[43mtimeout\u001b[49m\n\u001b[0;32m    154\u001b[0m \u001b[43m    \u001b[49m\u001b[43m)\u001b[49m\n\u001b[0;32m    155\u001b[0m \u001b[38;5;28;01mexcept\u001b[39;00m NewConnectionRequired:\n\u001b[0;32m    156\u001b[0m     connection \u001b[38;5;241m=\u001b[39m \u001b[38;5;28;01mNone\u001b[39;00m\n",
      "File \u001b[1;32m~\\miniconda3\\envs\\tensor\\lib\\site-packages\\httpcore\\_sync\\connection.py:78\u001b[0m, in \u001b[0;36mSyncHTTPConnection.request\u001b[1;34m(self, method, url, headers, stream, timeout)\u001b[0m\n\u001b[0;32m     74\u001b[0m \u001b[38;5;28;01massert\u001b[39;00m \u001b[38;5;28mself\u001b[39m\u001b[38;5;241m.\u001b[39mconnection \u001b[38;5;129;01mis\u001b[39;00m \u001b[38;5;129;01mnot\u001b[39;00m \u001b[38;5;28;01mNone\u001b[39;00m\n\u001b[0;32m     75\u001b[0m logger\u001b[38;5;241m.\u001b[39mtrace(\n\u001b[0;32m     76\u001b[0m     \u001b[38;5;124m\"\u001b[39m\u001b[38;5;124mconnection.request method=\u001b[39m\u001b[38;5;132;01m%r\u001b[39;00m\u001b[38;5;124m url=\u001b[39m\u001b[38;5;132;01m%r\u001b[39;00m\u001b[38;5;124m headers=\u001b[39m\u001b[38;5;132;01m%r\u001b[39;00m\u001b[38;5;124m\"\u001b[39m, method, url, headers\n\u001b[0;32m     77\u001b[0m )\n\u001b[1;32m---> 78\u001b[0m \u001b[38;5;28;01mreturn\u001b[39;00m \u001b[38;5;28;43mself\u001b[39;49m\u001b[38;5;241;43m.\u001b[39;49m\u001b[43mconnection\u001b[49m\u001b[38;5;241;43m.\u001b[39;49m\u001b[43mrequest\u001b[49m\u001b[43m(\u001b[49m\u001b[43mmethod\u001b[49m\u001b[43m,\u001b[49m\u001b[43m \u001b[49m\u001b[43murl\u001b[49m\u001b[43m,\u001b[49m\u001b[43m \u001b[49m\u001b[43mheaders\u001b[49m\u001b[43m,\u001b[49m\u001b[43m \u001b[49m\u001b[43mstream\u001b[49m\u001b[43m,\u001b[49m\u001b[43m \u001b[49m\u001b[43mtimeout\u001b[49m\u001b[43m)\u001b[49m\n",
      "File \u001b[1;32m~\\miniconda3\\envs\\tensor\\lib\\site-packages\\httpcore\\_sync\\http2.py:118\u001b[0m, in \u001b[0;36mSyncHTTP2Connection.request\u001b[1;34m(self, method, url, headers, stream, timeout)\u001b[0m\n\u001b[0;32m    116\u001b[0m     \u001b[38;5;28mself\u001b[39m\u001b[38;5;241m.\u001b[39mstreams[stream_id] \u001b[38;5;241m=\u001b[39m h2_stream\n\u001b[0;32m    117\u001b[0m     \u001b[38;5;28mself\u001b[39m\u001b[38;5;241m.\u001b[39mevents[stream_id] \u001b[38;5;241m=\u001b[39m []\n\u001b[1;32m--> 118\u001b[0m     \u001b[38;5;28;01mreturn\u001b[39;00m \u001b[43mh2_stream\u001b[49m\u001b[38;5;241;43m.\u001b[39;49m\u001b[43mrequest\u001b[49m\u001b[43m(\u001b[49m\u001b[43mmethod\u001b[49m\u001b[43m,\u001b[49m\u001b[43m \u001b[49m\u001b[43murl\u001b[49m\u001b[43m,\u001b[49m\u001b[43m \u001b[49m\u001b[43mheaders\u001b[49m\u001b[43m,\u001b[49m\u001b[43m \u001b[49m\u001b[43mstream\u001b[49m\u001b[43m,\u001b[49m\u001b[43m \u001b[49m\u001b[43mtimeout\u001b[49m\u001b[43m)\u001b[49m\n\u001b[0;32m    119\u001b[0m \u001b[38;5;28;01mexcept\u001b[39;00m \u001b[38;5;167;01mException\u001b[39;00m:\n\u001b[0;32m    120\u001b[0m     \u001b[38;5;28mself\u001b[39m\u001b[38;5;241m.\u001b[39mmax_streams_semaphore\u001b[38;5;241m.\u001b[39mrelease()\n",
      "File \u001b[1;32m~\\miniconda3\\envs\\tensor\\lib\\site-packages\\httpcore\\_sync\\http2.py:292\u001b[0m, in \u001b[0;36mSyncHTTP2Stream.request\u001b[1;34m(self, method, url, headers, stream, timeout)\u001b[0m\n\u001b[0;32m    289\u001b[0m     \u001b[38;5;28mself\u001b[39m\u001b[38;5;241m.\u001b[39msend_body(stream, timeout)\n\u001b[0;32m    291\u001b[0m \u001b[38;5;66;03m# Receive the response.\u001b[39;00m\n\u001b[1;32m--> 292\u001b[0m status_code, headers \u001b[38;5;241m=\u001b[39m \u001b[38;5;28;43mself\u001b[39;49m\u001b[38;5;241;43m.\u001b[39;49m\u001b[43mreceive_response\u001b[49m\u001b[43m(\u001b[49m\u001b[43mtimeout\u001b[49m\u001b[43m)\u001b[49m\n\u001b[0;32m    293\u001b[0m reason_phrase \u001b[38;5;241m=\u001b[39m get_reason_phrase(status_code)\n\u001b[0;32m    294\u001b[0m stream \u001b[38;5;241m=\u001b[39m SyncByteStream(\n\u001b[0;32m    295\u001b[0m     iterator\u001b[38;5;241m=\u001b[39m\u001b[38;5;28mself\u001b[39m\u001b[38;5;241m.\u001b[39mbody_iter(timeout), close_func\u001b[38;5;241m=\u001b[39m\u001b[38;5;28mself\u001b[39m\u001b[38;5;241m.\u001b[39m_response_closed\n\u001b[0;32m    296\u001b[0m )\n",
      "File \u001b[1;32m~\\miniconda3\\envs\\tensor\\lib\\site-packages\\httpcore\\_sync\\http2.py:344\u001b[0m, in \u001b[0;36mSyncHTTP2Stream.receive_response\u001b[1;34m(self, timeout)\u001b[0m\n\u001b[0;32m    340\u001b[0m \u001b[38;5;250m\u001b[39m\u001b[38;5;124;03m\"\"\"\u001b[39;00m\n\u001b[0;32m    341\u001b[0m \u001b[38;5;124;03mRead the response status and headers from the network.\u001b[39;00m\n\u001b[0;32m    342\u001b[0m \u001b[38;5;124;03m\"\"\"\u001b[39;00m\n\u001b[0;32m    343\u001b[0m \u001b[38;5;28;01mwhile\u001b[39;00m \u001b[38;5;28;01mTrue\u001b[39;00m:\n\u001b[1;32m--> 344\u001b[0m     event \u001b[38;5;241m=\u001b[39m \u001b[38;5;28;43mself\u001b[39;49m\u001b[38;5;241;43m.\u001b[39;49m\u001b[43mconnection\u001b[49m\u001b[38;5;241;43m.\u001b[39;49m\u001b[43mwait_for_event\u001b[49m\u001b[43m(\u001b[49m\u001b[38;5;28;43mself\u001b[39;49m\u001b[38;5;241;43m.\u001b[39;49m\u001b[43mstream_id\u001b[49m\u001b[43m,\u001b[49m\u001b[43m \u001b[49m\u001b[43mtimeout\u001b[49m\u001b[43m)\u001b[49m\n\u001b[0;32m    345\u001b[0m     \u001b[38;5;28;01mif\u001b[39;00m \u001b[38;5;28misinstance\u001b[39m(event, h2\u001b[38;5;241m.\u001b[39mevents\u001b[38;5;241m.\u001b[39mResponseReceived):\n\u001b[0;32m    346\u001b[0m         \u001b[38;5;28;01mbreak\u001b[39;00m\n",
      "File \u001b[1;32m~\\miniconda3\\envs\\tensor\\lib\\site-packages\\httpcore\\_sync\\http2.py:197\u001b[0m, in \u001b[0;36mSyncHTTP2Connection.wait_for_event\u001b[1;34m(self, stream_id, timeout)\u001b[0m\n\u001b[0;32m    195\u001b[0m \u001b[38;5;28;01mwith\u001b[39;00m \u001b[38;5;28mself\u001b[39m\u001b[38;5;241m.\u001b[39mread_lock:\n\u001b[0;32m    196\u001b[0m     \u001b[38;5;28;01mwhile\u001b[39;00m \u001b[38;5;129;01mnot\u001b[39;00m \u001b[38;5;28mself\u001b[39m\u001b[38;5;241m.\u001b[39mevents[stream_id]:\n\u001b[1;32m--> 197\u001b[0m         \u001b[38;5;28;43mself\u001b[39;49m\u001b[38;5;241;43m.\u001b[39;49m\u001b[43mreceive_events\u001b[49m\u001b[43m(\u001b[49m\u001b[43mtimeout\u001b[49m\u001b[43m)\u001b[49m\n\u001b[0;32m    198\u001b[0m \u001b[38;5;28;01mreturn\u001b[39;00m \u001b[38;5;28mself\u001b[39m\u001b[38;5;241m.\u001b[39mevents[stream_id]\u001b[38;5;241m.\u001b[39mpop(\u001b[38;5;241m0\u001b[39m)\n",
      "File \u001b[1;32m~\\miniconda3\\envs\\tensor\\lib\\site-packages\\httpcore\\_sync\\http2.py:204\u001b[0m, in \u001b[0;36mSyncHTTP2Connection.receive_events\u001b[1;34m(self, timeout)\u001b[0m\n\u001b[0;32m    200\u001b[0m \u001b[38;5;28;01mdef\u001b[39;00m \u001b[38;5;21mreceive_events\u001b[39m(\u001b[38;5;28mself\u001b[39m, timeout: TimeoutDict) \u001b[38;5;241m-\u001b[39m\u001b[38;5;241m>\u001b[39m \u001b[38;5;28;01mNone\u001b[39;00m:\n\u001b[0;32m    201\u001b[0m \u001b[38;5;250m    \u001b[39m\u001b[38;5;124;03m\"\"\"\u001b[39;00m\n\u001b[0;32m    202\u001b[0m \u001b[38;5;124;03m    Read some data from the network, and update the H2 state.\u001b[39;00m\n\u001b[0;32m    203\u001b[0m \u001b[38;5;124;03m    \"\"\"\u001b[39;00m\n\u001b[1;32m--> 204\u001b[0m     data \u001b[38;5;241m=\u001b[39m \u001b[38;5;28;43mself\u001b[39;49m\u001b[38;5;241;43m.\u001b[39;49m\u001b[43msocket\u001b[49m\u001b[38;5;241;43m.\u001b[39;49m\u001b[43mread\u001b[49m\u001b[43m(\u001b[49m\u001b[38;5;28;43mself\u001b[39;49m\u001b[38;5;241;43m.\u001b[39;49m\u001b[43mREAD_NUM_BYTES\u001b[49m\u001b[43m,\u001b[49m\u001b[43m \u001b[49m\u001b[43mtimeout\u001b[49m\u001b[43m)\u001b[49m\n\u001b[0;32m    205\u001b[0m     events \u001b[38;5;241m=\u001b[39m \u001b[38;5;28mself\u001b[39m\u001b[38;5;241m.\u001b[39mh2_state\u001b[38;5;241m.\u001b[39mreceive_data(data)\n\u001b[0;32m    206\u001b[0m     \u001b[38;5;28;01mfor\u001b[39;00m event \u001b[38;5;129;01min\u001b[39;00m events:\n",
      "File \u001b[1;32m~\\miniconda3\\envs\\tensor\\lib\\site-packages\\httpcore\\_backends\\sync.py:62\u001b[0m, in \u001b[0;36mSyncSocketStream.read\u001b[1;34m(self, n, timeout)\u001b[0m\n\u001b[0;32m     60\u001b[0m \u001b[38;5;28;01mwith\u001b[39;00m map_exceptions(exc_map):\n\u001b[0;32m     61\u001b[0m     \u001b[38;5;28mself\u001b[39m\u001b[38;5;241m.\u001b[39msock\u001b[38;5;241m.\u001b[39msettimeout(read_timeout)\n\u001b[1;32m---> 62\u001b[0m     \u001b[38;5;28;01mreturn\u001b[39;00m \u001b[38;5;28mself\u001b[39m\u001b[38;5;241m.\u001b[39msock\u001b[38;5;241m.\u001b[39mrecv(n)\n",
      "File \u001b[1;32m~\\miniconda3\\envs\\tensor\\lib\\contextlib.py:137\u001b[0m, in \u001b[0;36m_GeneratorContextManager.__exit__\u001b[1;34m(self, typ, value, traceback)\u001b[0m\n\u001b[0;32m    135\u001b[0m     value \u001b[38;5;241m=\u001b[39m typ()\n\u001b[0;32m    136\u001b[0m \u001b[38;5;28;01mtry\u001b[39;00m:\n\u001b[1;32m--> 137\u001b[0m     \u001b[38;5;28;43mself\u001b[39;49m\u001b[38;5;241;43m.\u001b[39;49m\u001b[43mgen\u001b[49m\u001b[38;5;241;43m.\u001b[39;49m\u001b[43mthrow\u001b[49m\u001b[43m(\u001b[49m\u001b[43mtyp\u001b[49m\u001b[43m,\u001b[49m\u001b[43m \u001b[49m\u001b[43mvalue\u001b[49m\u001b[43m,\u001b[49m\u001b[43m \u001b[49m\u001b[43mtraceback\u001b[49m\u001b[43m)\u001b[49m\n\u001b[0;32m    138\u001b[0m \u001b[38;5;28;01mexcept\u001b[39;00m \u001b[38;5;167;01mStopIteration\u001b[39;00m \u001b[38;5;28;01mas\u001b[39;00m exc:\n\u001b[0;32m    139\u001b[0m     \u001b[38;5;66;03m# Suppress StopIteration *unless* it's the same exception that\u001b[39;00m\n\u001b[0;32m    140\u001b[0m     \u001b[38;5;66;03m# was passed to throw().  This prevents a StopIteration\u001b[39;00m\n\u001b[0;32m    141\u001b[0m     \u001b[38;5;66;03m# raised inside the \"with\" statement from being suppressed.\u001b[39;00m\n\u001b[0;32m    142\u001b[0m     \u001b[38;5;28;01mreturn\u001b[39;00m exc \u001b[38;5;129;01mis\u001b[39;00m \u001b[38;5;129;01mnot\u001b[39;00m value\n",
      "File \u001b[1;32m~\\miniconda3\\envs\\tensor\\lib\\site-packages\\httpcore\\_exceptions.py:12\u001b[0m, in \u001b[0;36mmap_exceptions\u001b[1;34m(map)\u001b[0m\n\u001b[0;32m     10\u001b[0m \u001b[38;5;28;01mfor\u001b[39;00m from_exc, to_exc \u001b[38;5;129;01min\u001b[39;00m \u001b[38;5;28mmap\u001b[39m\u001b[38;5;241m.\u001b[39mitems():\n\u001b[0;32m     11\u001b[0m     \u001b[38;5;28;01mif\u001b[39;00m \u001b[38;5;28misinstance\u001b[39m(exc, from_exc):\n\u001b[1;32m---> 12\u001b[0m         \u001b[38;5;28;01mraise\u001b[39;00m to_exc(exc) \u001b[38;5;28;01mfrom\u001b[39;00m \u001b[38;5;28mNone\u001b[39m\n\u001b[0;32m     13\u001b[0m \u001b[38;5;28;01mraise\u001b[39;00m\n",
      "\u001b[1;31mReadTimeout\u001b[0m: The read operation timed out"
     ]
    }
   ],
   "source": [
    "translator = Translator()\n",
    "\n",
    "translated_text = []\n",
    "\n",
    "for text in df_main['Cleaned Text']:\n",
    "    \n",
    "    temp_text = translator.translate(text=text, dest='en')\n",
    "    translated_text.append(temp_text.text)"
   ]
  },
  {
   "cell_type": "code",
   "execution_count": null,
   "id": "7e81a506",
   "metadata": {},
   "outputs": [],
   "source": [
    "len(translated_text)"
   ]
  },
  {
   "cell_type": "code",
   "execution_count": 93,
   "id": "5bfa86f4",
   "metadata": {},
   "outputs": [
    {
     "name": "stdout",
     "output_type": "stream",
     "text": [
      "#Ukraine　#Вторжение в Украину\n",
      "Путин - массовый убийца.  Нет другого выбора, кроме как стереть Путина.  Мировой террористический вдохновитель.\n",
      "\n",
      "\n",
      "в Украину Путин массовый убийца Нет другого выбора кроме как стереть Путина Мировой террористический вдохновитель\n",
      "\n",
      "\n",
      "In Ukraine, Putin is a mass killer, there is no other choice but to erase Putin the world terrorist inspirer\n",
      "\n",
      "\n",
      "#UKRAINE#Invasion in Ukraine\n",
      "Putin is a mass killer.There is no other choice but to erase Putin.World terrorist inspirer.\n"
     ]
    }
   ],
   "source": [
    "check_line = 9\n",
    "print(df_main['text'][check_line])\n",
    "print(\"\\n\")\n",
    "print(cleaned_text[check_line]) \n",
    "print(\"\\n\")\n",
    "print(translator.translate(text=df_main['Cleaned Text'][check_line], dest='en').text)\n",
    "print(\"\\n\")\n",
    "print(translator.translate(text=df_main['text'][check_line], dest='en').text)\n"
   ]
  },
  {
   "cell_type": "code",
   "execution_count": 95,
   "id": "09f6af09",
   "metadata": {},
   "outputs": [
    {
     "data": {
      "text/plain": [
       "(86626, 14)"
      ]
     },
     "execution_count": 95,
     "metadata": {},
     "output_type": "execute_result"
    }
   ],
   "source": [
    "df_main.shape"
   ]
  },
  {
   "cell_type": "code",
   "execution_count": 98,
   "id": "bc3d404a",
   "metadata": {},
   "outputs": [
    {
     "data": {
      "text/plain": [
       "(86626, 86626)"
      ]
     },
     "execution_count": 98,
     "metadata": {},
     "output_type": "execute_result"
    }
   ],
   "source": [
    "len(df_main['text']), len(df_main['Cleaned Text'])"
   ]
  },
  {
   "cell_type": "code",
   "execution_count": 99,
   "id": "5e155d10",
   "metadata": {},
   "outputs": [],
   "source": [
    "df_main.to_csv('cleaned_scrapped_tweets_ru.csv')"
   ]
  },
  {
   "cell_type": "code",
   "execution_count": null,
   "id": "d81cbd04",
   "metadata": {},
   "outputs": [],
   "source": []
  }
 ],
 "metadata": {
  "kernelspec": {
   "display_name": "Python 3 (ipykernel)",
   "language": "python",
   "name": "python3"
  },
  "language_info": {
   "codemirror_mode": {
    "name": "ipython",
    "version": 3
   },
   "file_extension": ".py",
   "mimetype": "text/x-python",
   "name": "python",
   "nbconvert_exporter": "python",
   "pygments_lexer": "ipython3",
   "version": "3.9.16"
  }
 },
 "nbformat": 4,
 "nbformat_minor": 5
}
