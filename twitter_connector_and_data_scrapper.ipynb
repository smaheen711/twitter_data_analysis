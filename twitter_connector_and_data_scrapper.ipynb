{
 "cells": [
  {
   "cell_type": "code",
   "execution_count": 19,
   "id": "1f7e00aa",
   "metadata": {},
   "outputs": [],
   "source": [
    "import tweepy\n",
    "import pandas as pd\n",
    "import numpy as np\n",
    "import re\n",
    "\n",
    "pd.options.display.max_columns = 999"
   ]
  },
  {
   "cell_type": "code",
   "execution_count": 20,
   "id": "e00df3c2",
   "metadata": {},
   "outputs": [],
   "source": [
    "log = pd.read_csv(\"log_in.csv\")\n",
    "consumer_key = log['key'][0]\n",
    "consumer_secret = log['key'][1]\n",
    "access_token = log['key'][2]\n",
    "access_token_secret = log['key'][3]\n",
    "auth = tweepy.OAuthHandler(consumer_key, consumer_secret)\n",
    "auth.set_access_token(access_token, access_token_secret)\n",
    "api = tweepy.API(auth)\n"
   ]
  },
  {
   "cell_type": "code",
   "execution_count": 35,
   "id": "c66fb643",
   "metadata": {},
   "outputs": [],
   "source": [
    "keywords = 'ukraine'\n",
    "limit=5000\n",
    "\n",
    "tweets = tweepy.Cursor(api.search_tweets, q=keywords, count=100, tweet_mode='extended', lang = 'ru', re).items(limit)\n",
    "# tweets = api.search_tweets(\"ukraine\", tweet_mode=\"extended\", lang='ru')\n"
   ]
  },
  {
   "cell_type": "code",
   "execution_count": 36,
   "id": "c6df17d9",
   "metadata": {},
   "outputs": [
    {
     "name": "stdout",
     "output_type": "stream",
     "text": [
      "                User                                              Tweet\n",
      "0          sergik961  RT @War2022ua: В Одесской области ПВО сбило ещ...\n",
      "1          sergik961  RT @War2022ua: СБУ задержала российского агент...\n",
      "2          sergik961  RT @War2022ua: #ВС_РФ обстреляли Купянск - 5 ч...\n",
      "3           bulah003  RT @LLane0005: @i_korotchenko Англичане с амер...\n",
      "4          sergik961  RT @War2022ua: Техника рашистов успешно демили...\n",
      "...              ...                                                ...\n",
      "4995      red0987654  RT @BearwerGun: @gena88788 @red0987654 @69Andr...\n",
      "4996  Spirit_Ukraine  RT @whatisgoinghere: а вот и предположительно ...\n",
      "4997         djoeldd  RT @S_vivat: Bayraktar TB2 ВСУ🇺🇦 отправил в ут...\n",
      "4998        yustas76  RT @SvobodaRadio: Конгресс США сообщил о дости...\n",
      "4999    yulisa_jewel  Так выглядит российско-грузинская граница прям...\n",
      "\n",
      "[5000 rows x 2 columns]\n"
     ]
    }
   ],
   "source": [
    "columns = ['User', 'Tweet']\n",
    "data = []\n",
    "\n",
    "#get tweet Id, location(city name, lang, long)\n",
    "for tweet in tweets:\n",
    "    data.append([tweet.user.screen_name, tweet.full_text])\n",
    "\n",
    "df = pd.DataFrame(data, columns=columns)\n",
    "\n",
    "print(df)\n"
   ]
  },
  {
   "cell_type": "code",
   "execution_count": 37,
   "id": "3727c1d3",
   "metadata": {},
   "outputs": [
    {
     "data": {
      "text/plain": [
       "(5000, 2)"
      ]
     },
     "execution_count": 37,
     "metadata": {},
     "output_type": "execute_result"
    }
   ],
   "source": [
    "df.shape"
   ]
  },
  {
   "cell_type": "code",
   "execution_count": 38,
   "id": "d7c7638f",
   "metadata": {},
   "outputs": [],
   "source": [
    "df.to_csv(\"tweets_ukrain_in_russian.csv\")"
   ]
  },
  {
   "cell_type": "code",
   "execution_count": null,
   "id": "a3c5ce26",
   "metadata": {},
   "outputs": [],
   "source": []
  }
 ],
 "metadata": {
  "kernelspec": {
   "display_name": "Python 3 (ipykernel)",
   "language": "python",
   "name": "python3"
  },
  "language_info": {
   "codemirror_mode": {
    "name": "ipython",
    "version": 3
   },
   "file_extension": ".py",
   "mimetype": "text/x-python",
   "name": "python",
   "nbconvert_exporter": "python",
   "pygments_lexer": "ipython3",
   "version": "3.9.7"
  }
 },
 "nbformat": 4,
 "nbformat_minor": 5
}
