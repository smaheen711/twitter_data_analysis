{
 "cells": [
  {
   "cell_type": "code",
   "execution_count": 1,
   "id": "1f7e00aa",
   "metadata": {},
   "outputs": [],
   "source": [
    "import tweepy\n",
    "import pandas as pd\n",
    "import numpy as np\n",
    "import re\n",
    "\n",
    "pd.options.display.max_columns = 999"
   ]
  },
  {
   "cell_type": "code",
   "execution_count": 2,
   "id": "e00df3c2",
   "metadata": {},
   "outputs": [],
   "source": [
    "log = pd.read_csv(\"log_in.csv\")\n",
    "consumer_key = log['key'][0]\n",
    "consumer_secret = log['key'][1]\n",
    "access_token = log['key'][2]\n",
    "access_token_secret = log['key'][3]\n",
    "auth = tweepy.OAuthHandler(consumer_key, consumer_secret)\n",
    "auth.set_access_token(access_token, access_token_secret)\n",
    "api = tweepy.API(auth)\n"
   ]
  },
  {
   "cell_type": "code",
   "execution_count": 34,
   "id": "c66fb643",
   "metadata": {},
   "outputs": [],
   "source": [
    "keywords = 'ukraine'\n",
    "limit=5000\n",
    "\n",
    "tweets = tweepy.Cursor(api.search_tweets, q='Ukraine', count=100, tweet_mode='extended', lang = 'ru', \n",
    "                       result_type = 'mixed').items(limit)\n",
    "# tweets = api.search_tweets(\"ukraine\", tweet_mode=\"extended\", lang='ru')\n"
   ]
  },
  {
   "cell_type": "code",
   "execution_count": 35,
   "id": "c6df17d9",
   "metadata": {},
   "outputs": [
    {
     "name": "stdout",
     "output_type": "stream",
     "text": [
      "                User                                              Tweet\n",
      "0       GolosAmeriki  Зеленский пообещал жестко бороться с коррупцие...\n",
      "1         dw_russian  Макрон не исключил поставку в Украину танков L...\n",
      "2      CurrentTimeTv  Минобороны Украины закупает продукты для военн...\n",
      "3        MamaevZarub  @MFA_Ukraine @ZelenskyyUa Согласен! Конец всег...\n",
      "4     sergeizver2008  RT @War2022ua: На этих фото — командир миномет...\n",
      "...              ...                                                ...\n",
      "4995      OlegSkosar  RT @finanzru: Сербия запретила ЧВК «Вагнер» и ...\n",
      "4996  ogonekmarusya1  RT @finanzru: Сербия запретила ЧВК «Вагнер» и ...\n",
      "4997       gre_tania  RT @finanzru: США начинают передачу Украине ар...\n",
      "4998     mignewsfeed  Под Бахмутом убит наркодилер и наемник Вагнера...\n",
      "4999        DeeSeeUr  RT @LuhanskOblast: 🟣 Прямо сейчас в #Берлине п...\n",
      "\n",
      "[5000 rows x 2 columns]\n"
     ]
    }
   ],
   "source": [
    "columns = ['User', 'Original Tweet']\n",
    "data = []\n",
    "\n",
    "#get tweet Id, location(city name, lang, long)\n",
    "for tweet in tweets:\n",
    "    data.append([tweet.user.screen_name, tweet.full_text])\n",
    "\n",
    "df = pd.DataFrame(data, columns=columns)\n",
    "\n",
    "print(df)\n"
   ]
  },
  {
   "cell_type": "code",
   "execution_count": 36,
   "id": "3727c1d3",
   "metadata": {},
   "outputs": [
    {
     "data": {
      "text/plain": [
       "(5000, 2)"
      ]
     },
     "execution_count": 36,
     "metadata": {},
     "output_type": "execute_result"
    }
   ],
   "source": [
    "df.shape"
   ]
  },
  {
   "cell_type": "code",
   "execution_count": 9,
   "id": "d7c7638f",
   "metadata": {},
   "outputs": [],
   "source": [
    "df.to_csv(\"tweets_ukrain_in_russian.csv\")"
   ]
  },
  {
   "cell_type": "code",
   "execution_count": null,
   "id": "a3c5ce26",
   "metadata": {},
   "outputs": [],
   "source": []
  }
 ],
 "metadata": {
  "kernelspec": {
   "display_name": "Python 3 (ipykernel)",
   "language": "python",
   "name": "python3"
  },
  "language_info": {
   "codemirror_mode": {
    "name": "ipython",
    "version": 3
   },
   "file_extension": ".py",
   "mimetype": "text/x-python",
   "name": "python",
   "nbconvert_exporter": "python",
   "pygments_lexer": "ipython3",
   "version": "3.10.9"
  }
 },
 "nbformat": 4,
 "nbformat_minor": 5
}
